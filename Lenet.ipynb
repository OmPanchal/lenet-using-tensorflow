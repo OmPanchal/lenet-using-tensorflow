{
  "nbformat": 4,
  "nbformat_minor": 0,
  "metadata": {
    "colab": {
      "provenance": [],
      "collapsed_sections": [
        "zhhMjjrlBfb_",
        "qAfVTQbjazdy",
        "WqJV3wR2TD-W",
        "wxjzSW2bF-PE",
        "97AIK8RI2gFA",
        "HcTQTNk4PcDW",
        "8HGFxv-F5WkZ",
        "-FXeSVQwRCPz",
        "eSawENBuoFDO",
        "drS_qDktdz-B",
        "gsV0MS1qgpex",
        "vlZI4lSoaAwx",
        "opTRSiJFWUit",
        "wWzY2zZfBs1_",
        "pr-CvT8gachH",
        "doL0kIkdT_fs",
        "efWDKK6t4aOJ",
        "bh8FslcU5mqg"
      ],
      "gpuType": "T4",
      "mount_file_id": "1paf6hLzTgNmZ3R4LQQxahgo4t90PTN_N",
      "authorship_tag": "ABX9TyOiX0132OZrLvDkAZrbSDn9",
      "include_colab_link": true
    },
    "kernelspec": {
      "name": "python3",
      "display_name": "Python 3"
    },
    "language_info": {
      "name": "python"
    },
    "accelerator": "GPU"
  },
  "cells": [
    {
      "cell_type": "markdown",
      "metadata": {
        "id": "view-in-github",
        "colab_type": "text"
      },
      "source": [
        "<a href=\"https://colab.research.google.com/github/OmPanchal/lenet-using-tensorflow/blob/main/Lenet.ipynb\" target=\"_parent\"><img src=\"https://colab.research.google.com/assets/colab-badge.svg\" alt=\"Open In Colab\"/></a>"
      ]
    },
    {
      "cell_type": "code",
      "source": [
        "import tensorflow as tf\n",
        "import shutil\n",
        "import os\n",
        "import numpy as np\n",
        "from PIL import Image\n",
        "import pandas as pd\n",
        "import matplotlib.pyplot as plt\n",
        "from multiprocessing import Process\n",
        "import time as time"
      ],
      "metadata": {
        "id": "8E3YFsiI-S2H"
      },
      "execution_count": null,
      "outputs": []
    },
    {
      "cell_type": "markdown",
      "source": [
        "## **Dataset**"
      ],
      "metadata": {
        "id": "zhhMjjrlBfb_"
      }
    },
    {
      "cell_type": "code",
      "execution_count": null,
      "metadata": {
        "id": "2q39F3bB8y28"
      },
      "outputs": [],
      "source": [
        "!unzip -o \"/content/drive/MyDrive/Colab Notebooks/EnglishCharacters.zip\" -d \"\"\n",
        "!rm -r \"train\""
      ]
    },
    {
      "cell_type": "code",
      "source": [
        "english_csv = pd.read_csv(\"english.csv\")\n",
        "english_csv.head()"
      ],
      "metadata": {
        "colab": {
          "base_uri": "https://localhost:8080/"
        },
        "id": "gtmoPF8e0PhK",
        "outputId": "57fd2807-49a1-4bc2-e960-e4cc2ddebd76"
      },
      "execution_count": null,
      "outputs": [
        {
          "output_type": "execute_result",
          "data": {
            "text/plain": [
              "                image label\n",
              "0  Img/img001-001.png     0\n",
              "1  Img/img001-002.png     0\n",
              "2  Img/img001-003.png     0\n",
              "3  Img/img001-004.png     0\n",
              "4  Img/img001-005.png     0"
            ],
            "text/html": [
              "\n",
              "  <div id=\"df-ff2c8fb7-99e9-4c72-abe9-e20a7dac2513\" class=\"colab-df-container\">\n",
              "    <div>\n",
              "<style scoped>\n",
              "    .dataframe tbody tr th:only-of-type {\n",
              "        vertical-align: middle;\n",
              "    }\n",
              "\n",
              "    .dataframe tbody tr th {\n",
              "        vertical-align: top;\n",
              "    }\n",
              "\n",
              "    .dataframe thead th {\n",
              "        text-align: right;\n",
              "    }\n",
              "</style>\n",
              "<table border=\"1\" class=\"dataframe\">\n",
              "  <thead>\n",
              "    <tr style=\"text-align: right;\">\n",
              "      <th></th>\n",
              "      <th>image</th>\n",
              "      <th>label</th>\n",
              "    </tr>\n",
              "  </thead>\n",
              "  <tbody>\n",
              "    <tr>\n",
              "      <th>0</th>\n",
              "      <td>Img/img001-001.png</td>\n",
              "      <td>0</td>\n",
              "    </tr>\n",
              "    <tr>\n",
              "      <th>1</th>\n",
              "      <td>Img/img001-002.png</td>\n",
              "      <td>0</td>\n",
              "    </tr>\n",
              "    <tr>\n",
              "      <th>2</th>\n",
              "      <td>Img/img001-003.png</td>\n",
              "      <td>0</td>\n",
              "    </tr>\n",
              "    <tr>\n",
              "      <th>3</th>\n",
              "      <td>Img/img001-004.png</td>\n",
              "      <td>0</td>\n",
              "    </tr>\n",
              "    <tr>\n",
              "      <th>4</th>\n",
              "      <td>Img/img001-005.png</td>\n",
              "      <td>0</td>\n",
              "    </tr>\n",
              "  </tbody>\n",
              "</table>\n",
              "</div>\n",
              "    <div class=\"colab-df-buttons\">\n",
              "\n",
              "  <div class=\"colab-df-container\">\n",
              "    <button class=\"colab-df-convert\" onclick=\"convertToInteractive('df-ff2c8fb7-99e9-4c72-abe9-e20a7dac2513')\"\n",
              "            title=\"Convert this dataframe to an interactive table.\"\n",
              "            style=\"display:none;\">\n",
              "\n",
              "  <svg xmlns=\"http://www.w3.org/2000/svg\" height=\"24px\" viewBox=\"0 -960 960 960\">\n",
              "    <path d=\"M120-120v-720h720v720H120Zm60-500h600v-160H180v160Zm220 220h160v-160H400v160Zm0 220h160v-160H400v160ZM180-400h160v-160H180v160Zm440 0h160v-160H620v160ZM180-180h160v-160H180v160Zm440 0h160v-160H620v160Z\"/>\n",
              "  </svg>\n",
              "    </button>\n",
              "\n",
              "  <style>\n",
              "    .colab-df-container {\n",
              "      display:flex;\n",
              "      gap: 12px;\n",
              "    }\n",
              "\n",
              "    .colab-df-convert {\n",
              "      background-color: #E8F0FE;\n",
              "      border: none;\n",
              "      border-radius: 50%;\n",
              "      cursor: pointer;\n",
              "      display: none;\n",
              "      fill: #1967D2;\n",
              "      height: 32px;\n",
              "      padding: 0 0 0 0;\n",
              "      width: 32px;\n",
              "    }\n",
              "\n",
              "    .colab-df-convert:hover {\n",
              "      background-color: #E2EBFA;\n",
              "      box-shadow: 0px 1px 2px rgba(60, 64, 67, 0.3), 0px 1px 3px 1px rgba(60, 64, 67, 0.15);\n",
              "      fill: #174EA6;\n",
              "    }\n",
              "\n",
              "    .colab-df-buttons div {\n",
              "      margin-bottom: 4px;\n",
              "    }\n",
              "\n",
              "    [theme=dark] .colab-df-convert {\n",
              "      background-color: #3B4455;\n",
              "      fill: #D2E3FC;\n",
              "    }\n",
              "\n",
              "    [theme=dark] .colab-df-convert:hover {\n",
              "      background-color: #434B5C;\n",
              "      box-shadow: 0px 1px 3px 1px rgba(0, 0, 0, 0.15);\n",
              "      filter: drop-shadow(0px 1px 2px rgba(0, 0, 0, 0.3));\n",
              "      fill: #FFFFFF;\n",
              "    }\n",
              "  </style>\n",
              "\n",
              "    <script>\n",
              "      const buttonEl =\n",
              "        document.querySelector('#df-ff2c8fb7-99e9-4c72-abe9-e20a7dac2513 button.colab-df-convert');\n",
              "      buttonEl.style.display =\n",
              "        google.colab.kernel.accessAllowed ? 'block' : 'none';\n",
              "\n",
              "      async function convertToInteractive(key) {\n",
              "        const element = document.querySelector('#df-ff2c8fb7-99e9-4c72-abe9-e20a7dac2513');\n",
              "        const dataTable =\n",
              "          await google.colab.kernel.invokeFunction('convertToInteractive',\n",
              "                                                    [key], {});\n",
              "        if (!dataTable) return;\n",
              "\n",
              "        const docLinkHtml = 'Like what you see? Visit the ' +\n",
              "          '<a target=\"_blank\" href=https://colab.research.google.com/notebooks/data_table.ipynb>data table notebook</a>'\n",
              "          + ' to learn more about interactive tables.';\n",
              "        element.innerHTML = '';\n",
              "        dataTable['output_type'] = 'display_data';\n",
              "        await google.colab.output.renderOutput(dataTable, element);\n",
              "        const docLink = document.createElement('div');\n",
              "        docLink.innerHTML = docLinkHtml;\n",
              "        element.appendChild(docLink);\n",
              "      }\n",
              "    </script>\n",
              "  </div>\n",
              "\n",
              "\n",
              "<div id=\"df-e8584ac0-9a70-46ff-b88c-a7d39839c3cf\">\n",
              "  <button class=\"colab-df-quickchart\" onclick=\"quickchart('df-e8584ac0-9a70-46ff-b88c-a7d39839c3cf')\"\n",
              "            title=\"Suggest charts.\"\n",
              "            style=\"display:none;\">\n",
              "\n",
              "<svg xmlns=\"http://www.w3.org/2000/svg\" height=\"24px\"viewBox=\"0 0 24 24\"\n",
              "     width=\"24px\">\n",
              "    <g>\n",
              "        <path d=\"M19 3H5c-1.1 0-2 .9-2 2v14c0 1.1.9 2 2 2h14c1.1 0 2-.9 2-2V5c0-1.1-.9-2-2-2zM9 17H7v-7h2v7zm4 0h-2V7h2v10zm4 0h-2v-4h2v4z\"/>\n",
              "    </g>\n",
              "</svg>\n",
              "  </button>\n",
              "\n",
              "<style>\n",
              "  .colab-df-quickchart {\n",
              "      --bg-color: #E8F0FE;\n",
              "      --fill-color: #1967D2;\n",
              "      --hover-bg-color: #E2EBFA;\n",
              "      --hover-fill-color: #174EA6;\n",
              "      --disabled-fill-color: #AAA;\n",
              "      --disabled-bg-color: #DDD;\n",
              "  }\n",
              "\n",
              "  [theme=dark] .colab-df-quickchart {\n",
              "      --bg-color: #3B4455;\n",
              "      --fill-color: #D2E3FC;\n",
              "      --hover-bg-color: #434B5C;\n",
              "      --hover-fill-color: #FFFFFF;\n",
              "      --disabled-bg-color: #3B4455;\n",
              "      --disabled-fill-color: #666;\n",
              "  }\n",
              "\n",
              "  .colab-df-quickchart {\n",
              "    background-color: var(--bg-color);\n",
              "    border: none;\n",
              "    border-radius: 50%;\n",
              "    cursor: pointer;\n",
              "    display: none;\n",
              "    fill: var(--fill-color);\n",
              "    height: 32px;\n",
              "    padding: 0;\n",
              "    width: 32px;\n",
              "  }\n",
              "\n",
              "  .colab-df-quickchart:hover {\n",
              "    background-color: var(--hover-bg-color);\n",
              "    box-shadow: 0 1px 2px rgba(60, 64, 67, 0.3), 0 1px 3px 1px rgba(60, 64, 67, 0.15);\n",
              "    fill: var(--button-hover-fill-color);\n",
              "  }\n",
              "\n",
              "  .colab-df-quickchart-complete:disabled,\n",
              "  .colab-df-quickchart-complete:disabled:hover {\n",
              "    background-color: var(--disabled-bg-color);\n",
              "    fill: var(--disabled-fill-color);\n",
              "    box-shadow: none;\n",
              "  }\n",
              "\n",
              "  .colab-df-spinner {\n",
              "    border: 2px solid var(--fill-color);\n",
              "    border-color: transparent;\n",
              "    border-bottom-color: var(--fill-color);\n",
              "    animation:\n",
              "      spin 1s steps(1) infinite;\n",
              "  }\n",
              "\n",
              "  @keyframes spin {\n",
              "    0% {\n",
              "      border-color: transparent;\n",
              "      border-bottom-color: var(--fill-color);\n",
              "      border-left-color: var(--fill-color);\n",
              "    }\n",
              "    20% {\n",
              "      border-color: transparent;\n",
              "      border-left-color: var(--fill-color);\n",
              "      border-top-color: var(--fill-color);\n",
              "    }\n",
              "    30% {\n",
              "      border-color: transparent;\n",
              "      border-left-color: var(--fill-color);\n",
              "      border-top-color: var(--fill-color);\n",
              "      border-right-color: var(--fill-color);\n",
              "    }\n",
              "    40% {\n",
              "      border-color: transparent;\n",
              "      border-right-color: var(--fill-color);\n",
              "      border-top-color: var(--fill-color);\n",
              "    }\n",
              "    60% {\n",
              "      border-color: transparent;\n",
              "      border-right-color: var(--fill-color);\n",
              "    }\n",
              "    80% {\n",
              "      border-color: transparent;\n",
              "      border-right-color: var(--fill-color);\n",
              "      border-bottom-color: var(--fill-color);\n",
              "    }\n",
              "    90% {\n",
              "      border-color: transparent;\n",
              "      border-bottom-color: var(--fill-color);\n",
              "    }\n",
              "  }\n",
              "</style>\n",
              "\n",
              "  <script>\n",
              "    async function quickchart(key) {\n",
              "      const quickchartButtonEl =\n",
              "        document.querySelector('#' + key + ' button');\n",
              "      quickchartButtonEl.disabled = true;  // To prevent multiple clicks.\n",
              "      quickchartButtonEl.classList.add('colab-df-spinner');\n",
              "      try {\n",
              "        const charts = await google.colab.kernel.invokeFunction(\n",
              "            'suggestCharts', [key], {});\n",
              "      } catch (error) {\n",
              "        console.error('Error during call to suggestCharts:', error);\n",
              "      }\n",
              "      quickchartButtonEl.classList.remove('colab-df-spinner');\n",
              "      quickchartButtonEl.classList.add('colab-df-quickchart-complete');\n",
              "    }\n",
              "    (() => {\n",
              "      let quickchartButtonEl =\n",
              "        document.querySelector('#df-e8584ac0-9a70-46ff-b88c-a7d39839c3cf button');\n",
              "      quickchartButtonEl.style.display =\n",
              "        google.colab.kernel.accessAllowed ? 'block' : 'none';\n",
              "    })();\n",
              "  </script>\n",
              "</div>\n",
              "    </div>\n",
              "  </div>\n"
            ]
          },
          "metadata": {},
          "execution_count": 4
        }
      ]
    },
    {
      "cell_type": "code",
      "source": [
        "english_csv_np = english_csv.to_numpy()"
      ],
      "metadata": {
        "id": "pRsM4PJ57I80"
      },
      "execution_count": null,
      "outputs": []
    },
    {
      "cell_type": "code",
      "source": [
        "for filepath, label in english_csv_np[0: 10]:\n",
        "    print(filepath, label)"
      ],
      "metadata": {
        "colab": {
          "base_uri": "https://localhost:8080/"
        },
        "id": "q30FXu302XUm",
        "outputId": "fd1a1015-cae9-40f6-8294-e64476f4dc15"
      },
      "execution_count": null,
      "outputs": [
        {
          "output_type": "stream",
          "name": "stdout",
          "text": [
            "Img/img001-001.png 0\n",
            "Img/img001-002.png 0\n",
            "Img/img001-003.png 0\n",
            "Img/img001-004.png 0\n",
            "Img/img001-005.png 0\n",
            "Img/img001-006.png 0\n",
            "Img/img001-007.png 0\n",
            "Img/img001-008.png 0\n",
            "Img/img001-009.png 0\n",
            "Img/img001-010.png 0\n"
          ]
        }
      ]
    },
    {
      "cell_type": "code",
      "source": [
        "if not os.path.exists(\"train\"): os.mkdir(\"train\")\n",
        "\n",
        "labels = np.unique(english_csv_np.T[1])\n",
        "for label in labels:\n",
        "    os.mkdir(os.path.join(\"train\", label))"
      ],
      "metadata": {
        "id": "19jsrjQ13R-b"
      },
      "execution_count": null,
      "outputs": []
    },
    {
      "cell_type": "code",
      "source": [
        "len(labels)"
      ],
      "metadata": {
        "colab": {
          "base_uri": "https://localhost:8080/"
        },
        "id": "34nKNDwe97DR",
        "outputId": "2949c800-2362-4043-d758-bdaa0a1c87eb"
      },
      "execution_count": null,
      "outputs": [
        {
          "output_type": "execute_result",
          "data": {
            "text/plain": [
              "62"
            ]
          },
          "metadata": {},
          "execution_count": 8
        }
      ]
    },
    {
      "cell_type": "code",
      "source": [
        "for f, l in english_csv_np:\n",
        "    shutil.move(f, os.path.join(\"train\", l))\n",
        "\n",
        "os.rmdir(\"Img\")"
      ],
      "metadata": {
        "id": "SYm7ZiBd3cfn"
      },
      "execution_count": null,
      "outputs": []
    },
    {
      "cell_type": "code",
      "source": [
        "train_ds = tf.keras.utils.image_dataset_from_directory(\"train\", shuffle=False).unbatch()\n",
        "train_ds"
      ],
      "metadata": {
        "colab": {
          "base_uri": "https://localhost:8080/"
        },
        "id": "oknkOcCU9C0F",
        "outputId": "822a0725-0dbc-4120-83fa-b599339430b3"
      },
      "execution_count": null,
      "outputs": [
        {
          "output_type": "stream",
          "name": "stdout",
          "text": [
            "Found 3410 files belonging to 62 classes.\n"
          ]
        },
        {
          "output_type": "execute_result",
          "data": {
            "text/plain": [
              "<_UnbatchDataset element_spec=(TensorSpec(shape=(256, 256, 3), dtype=tf.float32, name=None), TensorSpec(shape=(), dtype=tf.int32, name=None))>"
            ]
          },
          "metadata": {},
          "execution_count": 10
        }
      ]
    },
    {
      "cell_type": "code",
      "source": [
        "for i, l in train_ds.shuffle(buffer_size=50).take(1):\n",
        "    plt.title(str(i.shape))\n",
        "    plt.axis(\"off\")\n",
        "    plt.imshow(i)"
      ],
      "metadata": {
        "colab": {
          "base_uri": "https://localhost:8080/"
        },
        "id": "86F8hn8j_nm3",
        "outputId": "c2179445-a341-4017-d65a-2de4b61d34a0"
      },
      "execution_count": null,
      "outputs": [
        {
          "output_type": "stream",
          "name": "stderr",
          "text": [
            "WARNING:matplotlib.image:Clipping input data to the valid range for imshow with RGB data ([0..1] for floats or [0..255] for integers).\n"
          ]
        },
        {
          "output_type": "display_data",
          "data": {
            "text/plain": [
              "<Figure size 640x480 with 1 Axes>"
            ],
            "image/png": "[encoded data removed]"
          },
          "metadata": {}
        }
      ]
    },
    {
      "cell_type": "code",
      "source": [
        "train_ds = train_ds.map(lambda x, y: (x / 255, y))"
      ],
      "metadata": {
        "id": "0nNcCej5FXen"
      },
      "execution_count": null,
      "outputs": []
    },
    {
      "cell_type": "code",
      "source": [
        "plt.imshow(next(train_ds.as_numpy_iterator())[0])"
      ],
      "metadata": {
        "colab": {
          "base_uri": "https://localhost:8080/"
        },
        "id": "j22MJSRGFgly",
        "outputId": "c8521dd0-24b9-4695-96a3-141b410605ac"
      },
      "execution_count": null,
      "outputs": [
        {
          "output_type": "execute_result",
          "data": {
            "text/plain": [
              "<matplotlib.image.AxesImage at 0x7e5fe4c45390>"
            ]
          },
          "metadata": {},
          "execution_count": 13
        },
        {
          "output_type": "display_data",
          "data": {
            "text/plain": [
              "<Figure size 640x480 with 1 Axes>"
            ],
            "image/png": "[encoded data removed]"
          },
          "metadata": {}
        }
      ]
    },
    {
      "cell_type": "markdown",
      "source": [
        "## **Network**"
      ],
      "metadata": {
        "id": "MXX2ITwdAOZM"
      }
    },
    {
      "cell_type": "markdown",
      "source": [
        "### **Lenet**\n",
        "\n",
        "![image.png](data:image/png;base64,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)"
      ],
      "metadata": {
        "id": "FnCvqTfAF6FW"
      }
    },
    {
      "cell_type": "markdown",
      "source": [
        "**Edits to the Architecture**\n",
        "- Image size is 256 x 256 therefore larger feature maps while in the paper smaller sized images are used\n",
        "- Since the output lenght of the network is 10 (for digits 0-9), as subset of the dataset will be used. The lowercase and uppercase characters will be ommited while the network will only be trained on the digits.\n",
        "- Edits to a few layers might have to be made due to the larger size of the image such as additional fully connected layers or an increase in the number of kernels in the convolutional layers.\n",
        "- Additional Layers will have to be added inbetween origional layers to downsample the feature maps back to the correct dimensions.\n",
        "\n",
        "**Custom Architecture of LeNet**\n",
        "\n",
        "- pooling layers have trainable scalar parameters (might implement by subclassing pooling layer).\n",
        ">*Each unit computes the\n",
        "average of its four inputs multiplies it by a trainable coeffcient adds a trainable bias and passes the result through a sigmoid function*\n",
        "- Layer 3 connections of filters to subsets of images (might implement by editting the kernels). Portions of the kernels will be changed to 0 to connect the feature maps as specified in the paper.\n",
        "![image.png](data:image/png;base64,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)\n",
        "- Custom scaled tanh activation function\n",
        ">*The function f is odd, with horizon\n",
        "tal asymptotes at +A and -A The constant A is chosen\n",
        "to be 1.7159*\n",
        "- Final RBF layer (will implement using layer subclassing)."
      ],
      "metadata": {
        "id": "n0eFe_L3GR7Q"
      }
    },
    {
      "cell_type": "markdown",
      "source": [
        "#### **Subclassed Dataset**"
      ],
      "metadata": {
        "id": "qAfVTQbjazdy"
      }
    },
    {
      "cell_type": "code",
      "source": [
        "subclassed_ds_dir = \"subclassed_train\"\n",
        "if os.path.exists(subclassed_ds_dir):\n",
        "    shutil.rmtree(subclassed_ds_dir)\n",
        "os.mkdir(subclassed_ds_dir)"
      ],
      "metadata": {
        "id": "0_WSN1Xfi8iv"
      },
      "execution_count": null,
      "outputs": []
    },
    {
      "cell_type": "code",
      "source": [
        "dirs = os.listdir(\"train\")\n",
        "subclassed_dirs = []\n",
        "\n",
        "if os.path.exists(subclassed_ds_dir):\n",
        "    shutil.rmtree(subclassed_ds_dir)\n",
        "\n",
        "for i in dirs:\n",
        "    try:\n",
        "        dir_path = os.path.join(\"train\", str(int(i)))\n",
        "        destination_path = os.path.join(subclassed_ds_dir, i)\n",
        "        shutil.copytree(dir_path, destination_path)\n",
        "    except Exception as e:\n",
        "        print(f\"{e}\")"
      ],
      "metadata": {
        "colab": {
          "base_uri": "https://localhost:8080/"
        },
        "id": "cePxTz8ua4E2",
        "outputId": "72a08f08-d7c4-4391-bed5-0f119d71ab25"
      },
      "execution_count": null,
      "outputs": [
        {
          "output_type": "stream",
          "name": "stdout",
          "text": [
            "invalid literal for int() with base 10: 'J'\n",
            "invalid literal for int() with base 10: 'H'\n",
            "invalid literal for int() with base 10: 'v'\n",
            "invalid literal for int() with base 10: 'V'\n",
            "invalid literal for int() with base 10: 'n'\n",
            "invalid literal for int() with base 10: 'O'\n",
            "invalid literal for int() with base 10: 'C'\n",
            "invalid literal for int() with base 10: 'Z'\n",
            "invalid literal for int() with base 10: 'd'\n",
            "invalid literal for int() with base 10: 'T'\n",
            "invalid literal for int() with base 10: 'W'\n",
            "invalid literal for int() with base 10: 'k'\n",
            "invalid literal for int() with base 10: 's'\n",
            "invalid literal for int() with base 10: 'E'\n",
            "invalid literal for int() with base 10: 'P'\n",
            "invalid literal for int() with base 10: 'B'\n",
            "invalid literal for int() with base 10: 'l'\n",
            "invalid literal for int() with base 10: 'X'\n",
            "invalid literal for int() with base 10: 'y'\n",
            "invalid literal for int() with base 10: 'j'\n",
            "invalid literal for int() with base 10: 'w'\n",
            "invalid literal for int() with base 10: 'o'\n",
            "invalid literal for int() with base 10: 'Q'\n",
            "invalid literal for int() with base 10: 'S'\n",
            "invalid literal for int() with base 10: 'e'\n",
            "invalid literal for int() with base 10: 'U'\n",
            "invalid literal for int() with base 10: 'a'\n",
            "invalid literal for int() with base 10: 't'\n",
            "invalid literal for int() with base 10: 'Y'\n",
            "invalid literal for int() with base 10: 'i'\n",
            "invalid literal for int() with base 10: 'm'\n",
            "invalid literal for int() with base 10: 'I'\n",
            "invalid literal for int() with base 10: 'A'\n",
            "invalid literal for int() with base 10: 'u'\n",
            "invalid literal for int() with base 10: 'f'\n",
            "invalid literal for int() with base 10: 'h'\n",
            "invalid literal for int() with base 10: 'q'\n",
            "invalid literal for int() with base 10: 'z'\n",
            "invalid literal for int() with base 10: 'b'\n",
            "invalid literal for int() with base 10: 'F'\n",
            "invalid literal for int() with base 10: 'x'\n",
            "invalid literal for int() with base 10: 'K'\n",
            "invalid literal for int() with base 10: 'R'\n",
            "invalid literal for int() with base 10: 'g'\n",
            "invalid literal for int() with base 10: 'r'\n",
            "invalid literal for int() with base 10: 'N'\n",
            "invalid literal for int() with base 10: 'M'\n",
            "invalid literal for int() with base 10: 'p'\n",
            "invalid literal for int() with base 10: 'G'\n",
            "invalid literal for int() with base 10: 'D'\n",
            "invalid literal for int() with base 10: 'L'\n",
            "invalid literal for int() with base 10: 'c'\n"
          ]
        }
      ]
    },
    {
      "cell_type": "code",
      "source": [
        "digit_ds = tf.keras.utils.image_dataset_from_directory(subclassed_ds_dir, label_mode=\"categorical\").unbatch()\n",
        "digit_ds = digit_ds.map(lambda x, y: (x / 255, y))"
      ],
      "metadata": {
        "colab": {
          "base_uri": "https://localhost:8080/"
        },
        "id": "ticXhc1yvyHY",
        "outputId": "df6075d9-ab32-4dfa-d9b4-5470849b4313"
      },
      "execution_count": null,
      "outputs": [
        {
          "output_type": "stream",
          "name": "stdout",
          "text": [
            "Found 550 files belonging to 10 classes.\n"
          ]
        }
      ]
    },
    {
      "cell_type": "code",
      "source": [
        "random_digit = next(digit_ds.shuffle(buffer_size=50).as_numpy_iterator())\n",
        "\n",
        "print(random_digit[0].shape)\n",
        "\n",
        "plt.axis(\"off\")\n",
        "plt.imshow(random_digit[0])"
      ],
      "metadata": {
        "colab": {
          "base_uri": "https://localhost:8080/"
        },
        "id": "OoadX_9GwAC0",
        "outputId": "75240510-150d-45bb-8514-5a45a0316687"
      },
      "execution_count": null,
      "outputs": [
        {
          "output_type": "stream",
          "name": "stdout",
          "text": [
            "(256, 256, 3)\n"
          ]
        },
        {
          "output_type": "execute_result",
          "data": {
            "text/plain": [
              "<matplotlib.image.AxesImage at 0x7e5fe4b31720>"
            ]
          },
          "metadata": {},
          "execution_count": 17
        },
        {
          "output_type": "display_data",
          "data": {
            "text/plain": [
              "<Figure size 640x480 with 1 Axes>"
            ],
            "image/png": "[encoded data removed]"
          },
          "metadata": {}
        }
      ]
    },
    {
      "cell_type": "markdown",
      "source": [
        "#### **Padded mnist dataset**"
      ],
      "metadata": {
        "id": "WqJV3wR2TD-W"
      }
    },
    {
      "cell_type": "code",
      "source": [
        "(mnist_train), (mnist_test) = tf.keras.datasets.mnist.load_data()\n",
        "mnist_train, mnist_test"
      ],
      "metadata": {
        "colab": {
          "base_uri": "https://localhost:8080/"
        },
        "id": "dYL1vwT3TLhv",
        "outputId": "47c558f6-3073-47d6-a876-c499469c7d05"
      },
      "execution_count": null,
      "outputs": [
        {
          "output_type": "stream",
          "name": "stdout",
          "text": [
            "Downloading data from https://storage.googleapis.com/tensorflow/tf-keras-datasets/mnist.npz\n",
            "11490434/11490434 [==============================] - 0s 0us/step\n"
          ]
        },
        {
          "output_type": "execute_result",
          "data": {
            "text/plain": [
              "((array([[[0, 0, 0, ..., 0, 0, 0],\n",
              "          [0, 0, 0, ..., 0, 0, 0],\n",
              "          [0, 0, 0, ..., 0, 0, 0],\n",
              "          ...,\n",
              "          [0, 0, 0, ..., 0, 0, 0],\n",
              "          [0, 0, 0, ..., 0, 0, 0],\n",
              "          [0, 0, 0, ..., 0, 0, 0]],\n",
              "  \n",
              "         [[0, 0, 0, ..., 0, 0, 0],\n",
              "          [0, 0, 0, ..., 0, 0, 0],\n",
              "          [0, 0, 0, ..., 0, 0, 0],\n",
              "          ...,\n",
              "          [0, 0, 0, ..., 0, 0, 0],\n",
              "          [0, 0, 0, ..., 0, 0, 0],\n",
              "          [0, 0, 0, ..., 0, 0, 0]],\n",
              "  \n",
              "         [[0, 0, 0, ..., 0, 0, 0],\n",
              "          [0, 0, 0, ..., 0, 0, 0],\n",
              "          [0, 0, 0, ..., 0, 0, 0],\n",
              "          ...,\n",
              "          [0, 0, 0, ..., 0, 0, 0],\n",
              "          [0, 0, 0, ..., 0, 0, 0],\n",
              "          [0, 0, 0, ..., 0, 0, 0]],\n",
              "  \n",
              "         ...,\n",
              "  \n",
              "         [[0, 0, 0, ..., 0, 0, 0],\n",
              "          [0, 0, 0, ..., 0, 0, 0],\n",
              "          [0, 0, 0, ..., 0, 0, 0],\n",
              "          ...,\n",
              "          [0, 0, 0, ..., 0, 0, 0],\n",
              "          [0, 0, 0, ..., 0, 0, 0],\n",
              "          [0, 0, 0, ..., 0, 0, 0]],\n",
              "  \n",
              "         [[0, 0, 0, ..., 0, 0, 0],\n",
              "          [0, 0, 0, ..., 0, 0, 0],\n",
              "          [0, 0, 0, ..., 0, 0, 0],\n",
              "          ...,\n",
              "          [0, 0, 0, ..., 0, 0, 0],\n",
              "          [0, 0, 0, ..., 0, 0, 0],\n",
              "          [0, 0, 0, ..., 0, 0, 0]],\n",
              "  \n",
              "         [[0, 0, 0, ..., 0, 0, 0],\n",
              "          [0, 0, 0, ..., 0, 0, 0],\n",
              "          [0, 0, 0, ..., 0, 0, 0],\n",
              "          ...,\n",
              "          [0, 0, 0, ..., 0, 0, 0],\n",
              "          [0, 0, 0, ..., 0, 0, 0],\n",
              "          [0, 0, 0, ..., 0, 0, 0]]], dtype=uint8),\n",
              "  array([5, 0, 4, ..., 5, 6, 8], dtype=uint8)),\n",
              " (array([[[0, 0, 0, ..., 0, 0, 0],\n",
              "          [0, 0, 0, ..., 0, 0, 0],\n",
              "          [0, 0, 0, ..., 0, 0, 0],\n",
              "          ...,\n",
              "          [0, 0, 0, ..., 0, 0, 0],\n",
              "          [0, 0, 0, ..., 0, 0, 0],\n",
              "          [0, 0, 0, ..., 0, 0, 0]],\n",
              "  \n",
              "         [[0, 0, 0, ..., 0, 0, 0],\n",
              "          [0, 0, 0, ..., 0, 0, 0],\n",
              "          [0, 0, 0, ..., 0, 0, 0],\n",
              "          ...,\n",
              "          [0, 0, 0, ..., 0, 0, 0],\n",
              "          [0, 0, 0, ..., 0, 0, 0],\n",
              "          [0, 0, 0, ..., 0, 0, 0]],\n",
              "  \n",
              "         [[0, 0, 0, ..., 0, 0, 0],\n",
              "          [0, 0, 0, ..., 0, 0, 0],\n",
              "          [0, 0, 0, ..., 0, 0, 0],\n",
              "          ...,\n",
              "          [0, 0, 0, ..., 0, 0, 0],\n",
              "          [0, 0, 0, ..., 0, 0, 0],\n",
              "          [0, 0, 0, ..., 0, 0, 0]],\n",
              "  \n",
              "         ...,\n",
              "  \n",
              "         [[0, 0, 0, ..., 0, 0, 0],\n",
              "          [0, 0, 0, ..., 0, 0, 0],\n",
              "          [0, 0, 0, ..., 0, 0, 0],\n",
              "          ...,\n",
              "          [0, 0, 0, ..., 0, 0, 0],\n",
              "          [0, 0, 0, ..., 0, 0, 0],\n",
              "          [0, 0, 0, ..., 0, 0, 0]],\n",
              "  \n",
              "         [[0, 0, 0, ..., 0, 0, 0],\n",
              "          [0, 0, 0, ..., 0, 0, 0],\n",
              "          [0, 0, 0, ..., 0, 0, 0],\n",
              "          ...,\n",
              "          [0, 0, 0, ..., 0, 0, 0],\n",
              "          [0, 0, 0, ..., 0, 0, 0],\n",
              "          [0, 0, 0, ..., 0, 0, 0]],\n",
              "  \n",
              "         [[0, 0, 0, ..., 0, 0, 0],\n",
              "          [0, 0, 0, ..., 0, 0, 0],\n",
              "          [0, 0, 0, ..., 0, 0, 0],\n",
              "          ...,\n",
              "          [0, 0, 0, ..., 0, 0, 0],\n",
              "          [0, 0, 0, ..., 0, 0, 0],\n",
              "          [0, 0, 0, ..., 0, 0, 0]]], dtype=uint8),\n",
              "  array([7, 2, 1, ..., 4, 5, 6], dtype=uint8)))"
            ]
          },
          "metadata": {},
          "execution_count": 18
        }
      ]
    },
    {
      "cell_type": "code",
      "source": [
        "def preprocess_image(x):\n",
        "    x = tf.pad(x, paddings=tf.constant([[2, 2], [2, 2]]))\n",
        "    return tf.cast(x / 255, dtype=\"float32\")[..., tf.newaxis]\n",
        "\n",
        "def preprocess_label(y):\n",
        "    return tf.cast(tf.one_hot(indices=y, depth=10), dtype=\"float32\")\n",
        "\n",
        "mnist_ds = tf.data.Dataset.from_tensor_slices(mnist_train)\n",
        "mnist_ds = mnist_ds.map(lambda x, y: (preprocess_image(x), preprocess_label(y)))\n",
        "mnist_ds = mnist_ds.shuffle(buffer_size=128, reshuffle_each_iteration=True).prefetch(16)\n",
        "\n",
        "\n",
        "val = next(mnist_ds.as_numpy_iterator())\n",
        "\n",
        "plt.axis(\"off\")\n",
        "plt.title(f\"{np.argmax(val[1])} - {val[0].shape}\")\n",
        "plt.imshow(val[0])\n",
        "plt.show()"
      ],
      "metadata": {
        "colab": {
          "base_uri": "https://localhost:8080/"
        },
        "id": "LgYoEwPDTckb",
        "outputId": "e46c249a-8b50-4f0d-8991-bf5f8ba8c06e"
      },
      "execution_count": null,
      "outputs": [
        {
          "output_type": "display_data",
          "data": {
            "text/plain": [
              "<Figure size 640x480 with 1 Axes>"
            ],
            "image/png": "[encoded data removed]"
          },
          "metadata": {}
        }
      ]
    },
    {
      "cell_type": "markdown",
      "source": [
        "#### Custom Pooling layer initial build"
      ],
      "metadata": {
        "id": "wxjzSW2bF-PE"
      }
    },
    {
      "cell_type": "code",
      "source": [
        "# Trainable Average Pooling Layer\n",
        "\n",
        "class TrainableAveragePooling2DTest(tf.keras.layers.AveragePooling2D):\n",
        "    def __init__(self, pool_size=(2, 2),\n",
        "                 strides=None, padding=\"valid\",\n",
        "                 data_format=None,\n",
        "                 weights_initializer=None,\n",
        "                 bias_initializer=None,\n",
        "                 **kwargs):\n",
        "\n",
        "        super().__init__(pool_size, strides, padding, data_format, **kwargs)\n",
        "\n",
        "        weights_initializer = weights_initializer or tf.keras.initializers.RandomUniform(minval=0.5, maxval=1)\n",
        "        bias_initializer = bias_initializer or tf.keras.initializers.RandomUniform(minval=0, maxval=0.5)\n",
        "\n",
        "        self.W = self.add_weight(\"coef\", shape=(), initializer=weights_initializer)\n",
        "        self.b = self.add_weight(\"bias\", shape=(), initializer=bias_initializer)\n",
        "\n",
        "    def call(self, x, **kwargs):\n",
        "        return (self.W * super().call(x)) + self.b\n",
        "\n",
        "pooling = TrainableAveragePooling2DTest(strides=2, padding=\"same\")\n",
        "out_P = pooling(next(train_ds.as_numpy_iterator())[0][tf.newaxis])\n",
        "plt.imshow(out_P[0]), out_P.shape"
      ],
      "metadata": {
        "colab": {
          "base_uri": "https://localhost:8080/"
        },
        "id": "7QXLovNOBVFh",
        "outputId": "8721fa00-c6b3-4a5b-9c61-5b1458324442"
      },
      "execution_count": null,
      "outputs": [
        {
          "output_type": "execute_result",
          "data": {
            "text/plain": [
              "(<matplotlib.image.AxesImage at 0x7e5fe49fc6a0>, TensorShape([1, 128, 128, 3]))"
            ]
          },
          "metadata": {},
          "execution_count": 20
        },
        {
          "output_type": "display_data",
          "data": {
            "text/plain": [
              "<Figure size 640x480 with 1 Axes>"
            ],
            "image/png": "[encoded data removed]"
          },
          "metadata": {}
        }
      ]
    },
    {
      "cell_type": "markdown",
      "source": [
        "#### **`TrainableAveragePooling2D` (S2, S4)**"
      ],
      "metadata": {
        "id": "97AIK8RI2gFA"
      }
    },
    {
      "cell_type": "code",
      "source": [
        "class TrainableAveragePooling2D(tf.keras.layers.AveragePooling2D):\n",
        "    def __init__(self, pool_size=(2, 2),\n",
        "                 strides=2,\n",
        "                 padding=\"SAME\",\n",
        "                 data_format=None,\n",
        "                 weights_initializer=None,\n",
        "                 bias_initializer=None, **kwargs):\n",
        "        super().__init__(pool_size, strides, padding, data_format, **kwargs)\n",
        "\n",
        "        self.weights_initializer = weights_initializer or tf.keras.initializers.RandomUniform(minval=0.25, maxval=1)\n",
        "        self.bias_initializer = bias_initializer or tf.keras.initializers.RandomUniform(minval=0.5, maxval=1)\n",
        "\n",
        "    def build(self, input_shape):\n",
        "        super().build(input_shape)\n",
        "        self.W = self.add_weight(\"W\", shape=(1, 1, 1, input_shape[-1]), initializer=self.weights_initializer)\n",
        "        self.b = self.add_weight(\"b\", shape=(1, 1, 1, input_shape[-1]), initializer=self.bias_initializer)\n",
        "\n",
        "    def call(self, x, **kwargs):\n",
        "        return tf.keras.activations.sigmoid((self.W * super().call(x)) + self.b)\n",
        "\n",
        "\n",
        "pooling = TrainableAveragePooling2D(strides=2, padding=\"same\")\n",
        "out_P = pooling(next(train_ds.as_numpy_iterator())[0][tf.newaxis])\n",
        "plt.imshow(out_P[0]), out_P.shape"
      ],
      "metadata": {
        "colab": {
          "base_uri": "https://localhost:8080/",
          "height": 452
        },
        "id": "wNz7_k2M2qBk",
        "outputId": "aef88f52-dac5-4527-a4b7-ad869e3db8d0"
      },
      "execution_count": null,
      "outputs": [
        {
          "output_type": "execute_result",
          "data": {
            "text/plain": [
              "(<matplotlib.image.AxesImage at 0x7e5fe492cf10>, TensorShape([1, 128, 128, 3]))"
            ]
          },
          "metadata": {},
          "execution_count": 21
        },
        {
          "output_type": "display_data",
          "data": {
            "text/plain": [
              "<Figure size 640x480 with 1 Axes>"
            ],
            "image/png": "[encoded data removed]"
          },
          "metadata": {}
        }
      ]
    },
    {
      "cell_type": "markdown",
      "source": [
        "#### Partially Connected 2d Convolutional layer initial build"
      ],
      "metadata": {
        "id": "HcTQTNk4PcDW"
      }
    },
    {
      "cell_type": "code",
      "source": [
        "PARTIAL_CONNECTION_MAP = np.zeros(shape=(6, 16))\n",
        "\n",
        "for i, j in zip(range(6), range(6)):\n",
        "    max = 3 + i\n",
        "    PARTIAL_CONNECTION_MAP[i:max, j] = 1\n",
        "    PARTIAL_CONNECTION_MAP[:(max // 6) * (max % 6), j] = 1\n",
        "\n",
        "for i, j in zip(range(6), range(6, 12)):\n",
        "    max = 4 + i\n",
        "    PARTIAL_CONNECTION_MAP[i:max, j] = 1\n",
        "    PARTIAL_CONNECTION_MAP[:(max // 6) * (max % 6), j] = 1\n",
        "\n",
        "PARTIAL_CONNECTION_MAP[0:2, 12] = 1\n",
        "PARTIAL_CONNECTION_MAP[3:5, 12] = 1\n",
        "\n",
        "PARTIAL_CONNECTION_MAP[1:3, 13] = 1\n",
        "PARTIAL_CONNECTION_MAP[4:6, 13] = 1\n",
        "\n",
        "PARTIAL_CONNECTION_MAP[0, 14] = 1\n",
        "PARTIAL_CONNECTION_MAP[-1, 14] = 1\n",
        "PARTIAL_CONNECTION_MAP[2:4, 14] = 1\n",
        "\n",
        "PARTIAL_CONNECTION_MAP[:, 15] = 1\n",
        "\n",
        "PARTIAL_CONNECTION_MAP.astype(\"int32\"), PARTIAL_CONNECTION_MAP.shape"
      ],
      "metadata": {
        "colab": {
          "base_uri": "https://localhost:8080/"
        },
        "id": "pMG6tx6ar3S5",
        "outputId": "e47b12bb-87a1-45b7-bb0f-4507456503b1"
      },
      "execution_count": null,
      "outputs": [
        {
          "output_type": "execute_result",
          "data": {
            "text/plain": [
              "(array([[1, 0, 0, 0, 1, 1, 1, 0, 0, 1, 1, 1, 1, 0, 1, 1],\n",
              "        [1, 1, 0, 0, 0, 1, 1, 1, 0, 0, 1, 1, 1, 1, 0, 1],\n",
              "        [1, 1, 1, 0, 0, 0, 1, 1, 1, 0, 0, 1, 0, 1, 1, 1],\n",
              "        [0, 1, 1, 1, 0, 0, 1, 1, 1, 1, 0, 0, 1, 0, 1, 1],\n",
              "        [0, 0, 1, 1, 1, 0, 0, 1, 1, 1, 1, 0, 1, 1, 0, 1],\n",
              "        [0, 0, 0, 1, 1, 1, 0, 0, 1, 1, 1, 1, 0, 1, 1, 1]], dtype=int32),\n",
              " (6, 16))"
            ]
          },
          "metadata": {},
          "execution_count": 22
        }
      ]
    },
    {
      "cell_type": "code",
      "source": [
        "# Custom initialization for keras conv2d layer| worked\n",
        "\n",
        "class TestPartiallyConnectedConv2d(tf.keras.layers.Convolution2D):\n",
        "    def build(self, input_shape):\n",
        "        # set the unconnected filters to 0 so the outputs are 0\n",
        "        super().build(input_shape)\n",
        "\n",
        "        #                (i, j)\n",
        "        # self.kernel[:, :, 2, 0].assign(0) #!!\n",
        "        # self.kernel[:, :, 0:2, 1].assign(0) #!!\n",
        "        # print(self.kernel)\n",
        "\n",
        "        for i in range(6):\n",
        "            for j in range(16):\n",
        "                if PARTIAL_CONNECTION_MAP[i, j]:\n",
        "                    self.kernel[:, :, i, j].assign(0)\n",
        "\n",
        "        print(tf.transpose(self.kernel[:, :, :, 0]))\n",
        "        print(tf.transpose(self.kernel[:, :, :, 1]))\n",
        "        print(tf.transpose(self.kernel[:, :, :, 2]))\n",
        "\n",
        "        # # Another method would be to have a multiplier...\n",
        "        # test = self.kernel\n",
        "        # multiplier = np.ones(shape=self.kernel.shape)\n",
        "\n",
        "        # for i in range(self.kernel.shape[-1]):\n",
        "        #     multiplier[:, :, :, i][:, :, 1:] = multiplier[:, :, :, i][:, :, 1:] * 0\n",
        "\n",
        "        # self.kernel = tf.Variable(multiplier, trainable=True, dtype=\"float32\")\n",
        "        # print(multiplier, multiplier.shape)\n",
        "\n",
        "    def call(self, x):\n",
        "        return super().call(x)\n",
        "\n",
        "out = tf.keras.layers.Convolution2D(6, (3, 3))(out_P)\n",
        "\n",
        "NUM_TEST_FILTERS = 16\n",
        "C_test = TestPartiallyConnectedConv2d(NUM_TEST_FILTERS, (5, 5), padding=\"valid\")\n",
        "out_C = C_test(out)\n",
        "\n",
        "# for i in range(NUM_TEST_FILTERS):\n",
        "#     plt.imshow(tf.transpose(tf.transpose(out_C[0])[i]))\n",
        "#     plt.show()"
      ],
      "metadata": {
        "colab": {
          "base_uri": "https://localhost:8080/"
        },
        "id": "LP_JV-V8JlpO",
        "outputId": "8215eb6b-6291-4893-a802-435c13578be4"
      },
      "execution_count": null,
      "outputs": [
        {
          "output_type": "stream",
          "name": "stdout",
          "text": [
            "tf.Tensor(\n",
            "[[[ 0.          0.          0.          0.          0.        ]\n",
            "  [ 0.          0.          0.          0.          0.        ]\n",
            "  [ 0.          0.          0.          0.          0.        ]\n",
            "  [ 0.          0.          0.          0.          0.        ]\n",
            "  [ 0.          0.          0.          0.          0.        ]]\n",
            "\n",
            " [[ 0.          0.          0.          0.          0.        ]\n",
            "  [ 0.          0.          0.          0.          0.        ]\n",
            "  [ 0.          0.          0.          0.          0.        ]\n",
            "  [ 0.          0.          0.          0.          0.        ]\n",
            "  [ 0.          0.          0.          0.          0.        ]]\n",
            "\n",
            " [[ 0.          0.          0.          0.          0.        ]\n",
            "  [ 0.          0.          0.          0.          0.        ]\n",
            "  [ 0.          0.          0.          0.          0.        ]\n",
            "  [ 0.          0.          0.          0.          0.        ]\n",
            "  [ 0.          0.          0.          0.          0.        ]]\n",
            "\n",
            " [[ 0.05463558  0.10000522  0.09979644  0.00971253 -0.05841468]\n",
            "  [-0.03753051  0.00748273 -0.103625   -0.01427276 -0.05110905]\n",
            "  [-0.04841406  0.09096746 -0.08746324 -0.02803757  0.05760913]\n",
            "  [ 0.03951308 -0.01216964  0.05853872 -0.01635325 -0.09416605]\n",
            "  [ 0.03025959 -0.002822    0.07628314  0.05277672 -0.06974372]]\n",
            "\n",
            " [[ 0.10439135 -0.04630095  0.07540044  0.01030283 -0.02120501]\n",
            "  [ 0.03751697 -0.08381578 -0.05404244 -0.03735792 -0.05015182]\n",
            "  [-0.07008147  0.0691707  -0.0515288  -0.10214072 -0.03811857]\n",
            "  [-0.03814261  0.00281308 -0.01936866 -0.01872943  0.05806206]\n",
            "  [-0.09715448 -0.0027259  -0.05371971  0.01713905 -0.0670689 ]]\n",
            "\n",
            " [[ 0.06001431  0.00725831 -0.07733938  0.08870871 -0.05659808]\n",
            "  [-0.00891146  0.08427875 -0.03087951  0.00447758  0.03505428]\n",
            "  [ 0.031252   -0.08787264 -0.05453569 -0.01626801  0.07079262]\n",
            "  [-0.00720432  0.10403284 -0.06981036  0.03023647  0.06922568]\n",
            "  [-0.05705725  0.03756817 -0.0557863   0.0207056   0.04191279]]], shape=(6, 5, 5), dtype=float32)\n",
            "tf.Tensor(\n",
            "[[[-0.00899415 -0.04498418 -0.03357169 -0.07916094  0.0076991 ]\n",
            "  [ 0.05103645  0.04866196  0.01050917  0.10206015 -0.03640721]\n",
            "  [-0.09739591 -0.04206756  0.07279657 -0.03675494 -0.10070354]\n",
            "  [ 0.07930565  0.02065273  0.07956268 -0.08365533  0.0594656 ]\n",
            "  [ 0.03268147 -0.0988227  -0.00248823  0.00527552  0.06290708]]\n",
            "\n",
            " [[ 0.          0.          0.          0.          0.        ]\n",
            "  [ 0.          0.          0.          0.          0.        ]\n",
            "  [ 0.          0.          0.          0.          0.        ]\n",
            "  [ 0.          0.          0.          0.          0.        ]\n",
            "  [ 0.          0.          0.          0.          0.        ]]\n",
            "\n",
            " [[ 0.          0.          0.          0.          0.        ]\n",
            "  [ 0.          0.          0.          0.          0.        ]\n",
            "  [ 0.          0.          0.          0.          0.        ]\n",
            "  [ 0.          0.          0.          0.          0.        ]\n",
            "  [ 0.          0.          0.          0.          0.        ]]\n",
            "\n",
            " [[ 0.          0.          0.          0.          0.        ]\n",
            "  [ 0.          0.          0.          0.          0.        ]\n",
            "  [ 0.          0.          0.          0.          0.        ]\n",
            "  [ 0.          0.          0.          0.          0.        ]\n",
            "  [ 0.          0.          0.          0.          0.        ]]\n",
            "\n",
            " [[-0.02229427 -0.00945071  0.09758751  0.0283116   0.0276437 ]\n",
            "  [-0.00104579 -0.01316248 -0.00628586  0.00245255  0.00460657]\n",
            "  [-0.05439729 -0.10103462 -0.03466808 -0.00359222 -0.09959628]\n",
            "  [ 0.00656235  0.10293406 -0.06958722  0.08481525  0.06681122]\n",
            "  [-0.04884292  0.04627438  0.03294389  0.01620441  0.06594642]]\n",
            "\n",
            " [[-0.10282739  0.03113613  0.05009484  0.06260058  0.0421585 ]\n",
            "  [-0.07977796  0.07699691 -0.00639292 -0.09389272 -0.06603736]\n",
            "  [ 0.02521054 -0.09688492  0.02152617 -0.06794137 -0.0738233 ]\n",
            "  [-0.05334799 -0.09810942 -0.00121654 -0.00708487  0.0286255 ]\n",
            "  [ 0.00761217 -0.0412492   0.05953714 -0.01213906  0.03379498]]], shape=(6, 5, 5), dtype=float32)\n",
            "tf.Tensor(\n",
            "[[[ 0.06697388 -0.04571204  0.10352623  0.04745884  0.06535549]\n",
            "  [ 0.02642098 -0.01928892 -0.0890493   0.04228643  0.1004287 ]\n",
            "  [ 0.00572515 -0.07044643 -0.08839762  0.09873506 -0.05149969]\n",
            "  [-0.08439246 -0.05086175  0.05249645 -0.09222177 -0.00309343]\n",
            "  [-0.03168945  0.02059585  0.01654467  0.09599952 -0.00219205]]\n",
            "\n",
            " [[ 0.02997448 -0.0886493  -0.07661675  0.09444691  0.08667296]\n",
            "  [ 0.04813932  0.01518549  0.08252893 -0.03943176 -0.00179122]\n",
            "  [-0.09859601 -0.09230686 -0.0253562  -0.01519229  0.07852876]\n",
            "  [ 0.01633205  0.07713817  0.09997147  0.09362908  0.00011353]\n",
            "  [-0.10127027  0.05486979 -0.01921827  0.0562373   0.03959367]]\n",
            "\n",
            " [[ 0.          0.          0.          0.          0.        ]\n",
            "  [ 0.          0.          0.          0.          0.        ]\n",
            "  [ 0.          0.          0.          0.          0.        ]\n",
            "  [ 0.          0.          0.          0.          0.        ]\n",
            "  [ 0.          0.          0.          0.          0.        ]]\n",
            "\n",
            " [[ 0.          0.          0.          0.          0.        ]\n",
            "  [ 0.          0.          0.          0.          0.        ]\n",
            "  [ 0.          0.          0.          0.          0.        ]\n",
            "  [ 0.          0.          0.          0.          0.        ]\n",
            "  [ 0.          0.          0.          0.          0.        ]]\n",
            "\n",
            " [[ 0.          0.          0.          0.          0.        ]\n",
            "  [ 0.          0.          0.          0.          0.        ]\n",
            "  [ 0.          0.          0.          0.          0.        ]\n",
            "  [ 0.          0.          0.          0.          0.        ]\n",
            "  [ 0.          0.          0.          0.          0.        ]]\n",
            "\n",
            " [[-0.00961957  0.07295887  0.0675516   0.09791544 -0.06775072]\n",
            "  [-0.01071814 -0.00177208 -0.03311793 -0.06563108 -0.03184733]\n",
            "  [-0.03507645  0.05030948  0.02808231  0.0120638   0.08489779]\n",
            "  [ 0.04000507 -0.01833443  0.05423082 -0.10395433 -0.05731797]\n",
            "  [-0.09427226  0.09032284  0.02985731  0.02137613 -0.0297714 ]]], shape=(6, 5, 5), dtype=float32)\n"
          ]
        }
      ]
    },
    {
      "cell_type": "markdown",
      "source": [
        "#### **`PartialConv2D` (C3)**"
      ],
      "metadata": {
        "id": "8HGFxv-F5WkZ"
      }
    },
    {
      "cell_type": "code",
      "source": [
        "class PartialConv2D(tf.keras.layers.Conv2D):\n",
        "    def __init__(self, connection_map, *args, **kwargs):\n",
        "        super().__init__(*args, use_bias=False, **kwargs)\n",
        "        self.connection_map = connection_map\n",
        "\n",
        "    def build(self, input_shape):\n",
        "        super().build(input_shape)\n",
        "\n",
        "        for i in range(self.connection_map.shape[0]):\n",
        "            for j in range(self.connection_map.shape[1]):\n",
        "                if not self.connection_map[i, j]:\n",
        "                    self.kernel[:, :, i, j].assign(0)\n",
        "\n",
        "    def call(self, x, **kwargs):\n",
        "        self.kernel.assign(self.kernel * self.connection_map)\n",
        "        return super().call(x)\n",
        "\n",
        "out = tf.keras.layers.Convolution2D(6, (3, 3))(out_P)\n",
        "\n",
        "NUM_TEST_FILTERS = 16\n",
        "C_build = PartialConv2D(PARTIAL_CONNECTION_MAP, NUM_TEST_FILTERS, (5, 5), padding=\"valid\")\n",
        "out_C = C_build(out)\n",
        "\n",
        "C_build.kernel[:, :, 0, 0]\n",
        "\n",
        "for i in range(NUM_TEST_FILTERS):\n",
        "    plt.imshow(out_C[0, :, :, i], cmap=\"gray\")\n",
        "    plt.axis(\"off\")\n",
        "    plt.show()"
      ],
      "metadata": {
        "colab": {
          "base_uri": "https://localhost:8080/"
        },
        "id": "ur7f85yR5d6h",
        "outputId": "c1990aea-026e-43fe-f212-c4eafe625cfa"
      },
      "execution_count": null,
      "outputs": [
        {
          "output_type": "display_data",
          "data": {
            "text/plain": [
              "<Figure size 640x480 with 1 Axes>"
            ],
            "image/png": "[encoded data removed]"
          },
          "metadata": {}
        },
        {
          "output_type": "display_data",
          "data": {
            "text/plain": [
              "<Figure size 640x480 with 1 Axes>"
            ],
            "image/png": "[encoded data removed]"
          },
          "metadata": {}
        },
        {
          "output_type": "display_data",
          "data": {
            "text/plain": [
              "<Figure size 640x480 with 1 Axes>"
            ],
            "image/png": "[encoded data removed]"
          },
          "metadata": {}
        },
        {
          "output_type": "display_data",
          "data": {
            "text/plain": [
              "<Figure size 640x480 with 1 Axes>"
            ],
            "image/png": "[encoded data removed]"
          },
          "metadata": {}
        },
        {
          "output_type": "display_data",
          "data": {
            "text/plain": [
              "<Figure size 640x480 with 1 Axes>"
            ],
            "image/png": "[encoded data removed]"
          },
          "metadata": {}
        },
        {
          "output_type": "display_data",
          "data": {
            "text/plain": [
              "<Figure size 640x480 with 1 Axes>"
            ],
            "image/png": "[encoded data removed]"
          },
          "metadata": {}
        },
        {
          "output_type": "display_data",
          "data": {
            "text/plain": [
              "<Figure size 640x480 with 1 Axes>"
            ],
            "image/png": "[encoded data removed]"
          },
          "metadata": {}
        },
        {
          "output_type": "display_data",
          "data": {
            "text/plain": [
              "<Figure size 640x480 with 1 Axes>"
            ],
            "image/png": "[encoded data removed]"
          },
          "metadata": {}
        },
        {
          "output_type": "display_data",
          "data": {
            "text/plain": [
              "<Figure size 640x480 with 1 Axes>"
            ],
            "image/png": "[encoded data removed]"
          },
          "metadata": {}
        },
        {
          "output_type": "display_data",
          "data": {
            "text/plain": [
              "<Figure size 640x480 with 1 Axes>"
            ],
            "image/png": "[encoded data removed]"
          },
          "metadata": {}
        },
        {
          "output_type": "display_data",
          "data": {
            "text/plain": [
              "<Figure size 640x480 with 1 Axes>"
            ],
            "image/png": "[encoded data removed]"
          },
          "metadata": {}
        },
        {
          "output_type": "display_data",
          "data": {
            "text/plain": [
              "<Figure size 640x480 with 1 Axes>"
            ],
            "image/png": "[encoded data removed]"
          },
          "metadata": {}
        },
        {
          "output_type": "display_data",
          "data": {
            "text/plain": [
              "<Figure size 640x480 with 1 Axes>"
            ],
            "image/png": "[encoded data removed]"
          },
          "metadata": {}
        },
        {
          "output_type": "display_data",
          "data": {
            "text/plain": [
              "<Figure size 640x480 with 1 Axes>"
            ],
            "image/png": "[encoded data removed]"
          },
          "metadata": {}
        },
        {
          "output_type": "display_data",
          "data": {
            "text/plain": [
              "<Figure size 640x480 with 1 Axes>"
            ],
            "image/png": "[encoded data removed]"
          },
          "metadata": {}
        },
        {
          "output_type": "display_data",
          "data": {
            "text/plain": [
              "<Figure size 640x480 with 1 Axes>"
            ],
            "image/png": "[encoded data removed]"
          },
          "metadata": {}
        }
      ]
    },
    {
      "cell_type": "code",
      "source": [
        "# Testing if it will work in back propagation\n",
        "# Ensuring that back propagation does not change the \"unconnected\" maps\n",
        "\n",
        "Clayer = PartialConv2D(PARTIAL_CONNECTION_MAP, NUM_TEST_FILTERS, (3, 3), padding=\"same\")\n",
        "Clayer2 = PartialConv2D(PARTIAL_CONNECTION_MAP, NUM_TEST_FILTERS, (3, 3), padding=\"same\")\n",
        "\n",
        "with tf.GradientTape() as g:\n",
        "    out = Clayer(tf.keras.layers.Convolution2D(6, (3, 3))(out_P))\n",
        "\n",
        "    gradients = g.gradient(out, sources=Clayer.trainable_variables)\n",
        "    # gradients[0] = gradients[0] * PARTIAL_CONNECTION_MAP\n",
        "\n",
        "    tf.keras.optimizers.SGD(learning_rate=0.001).apply_gradients(zip(gradients, Clayer.trainable_variables))\n",
        "\n",
        "    Clayer(tf.keras.layers.Convolution2D(6, (3, 3))(out)) # running the same layer after shows that the kernels are indeed converted to their sparse state when the layer is called.\n",
        "\n",
        "\n",
        "Clayer.trainable_variables[0][:, :, :, 0]"
      ],
      "metadata": {
        "colab": {
          "base_uri": "https://localhost:8080/"
        },
        "id": "Cwh57TeI88an",
        "outputId": "f8b52763-0b95-418f-8662-676566e07af5"
      },
      "execution_count": null,
      "outputs": [
        {
          "output_type": "execute_result",
          "data": {
            "text/plain": [
              "<tf.Tensor: shape=(3, 3, 6), dtype=float32, numpy=\n",
              "array([[[ -3.6811388 , -15.905741  ,  -0.6683136 ,   0.        ,\n",
              "           0.        ,   0.        ],\n",
              "        [ -3.5071073 , -16.150732  ,  -0.57721776,   0.        ,\n",
              "           0.        ,   0.        ],\n",
              "        [ -3.694572  , -15.935758  ,  -0.63638985,   0.        ,\n",
              "           0.        ,   0.        ]],\n",
              "\n",
              "       [[ -3.714549  , -16.179472  ,  -0.664967  ,   0.        ,\n",
              "           0.        ,   0.        ],\n",
              "        [ -3.5447254 , -16.139723  ,  -0.7628021 ,   0.        ,\n",
              "           0.        ,   0.        ],\n",
              "        [ -3.4779794 , -16.311598  ,  -0.49420354,   0.        ,\n",
              "           0.        ,   0.        ]],\n",
              "\n",
              "       [[ -3.5162826 , -16.104761  ,  -0.7240467 ,   0.        ,\n",
              "           0.        ,   0.        ],\n",
              "        [ -3.7630486 , -16.22716   ,  -0.7506622 ,   0.        ,\n",
              "           0.        ,   0.        ],\n",
              "        [ -3.4540834 , -16.176495  ,  -0.73401296,   0.        ,\n",
              "           0.        ,   0.        ]]], dtype=float32)>"
            ]
          },
          "metadata": {},
          "execution_count": 25
        }
      ]
    },
    {
      "cell_type": "markdown",
      "source": [
        "#### **`scaledTanh` Activation (C6)**"
      ],
      "metadata": {
        "id": "-FXeSVQwRCPz"
      }
    },
    {
      "cell_type": "code",
      "source": [
        "A = 1.7159\n",
        "S = 2 / 3\n",
        "def scaledTanh(x): return A * tf.math.tanh(S * x)"
      ],
      "metadata": {
        "id": "4Ge4hnJcRIOg"
      },
      "execution_count": null,
      "outputs": []
    },
    {
      "cell_type": "markdown",
      "source": [
        "#### Euclidean Radial Basis Function initial build"
      ],
      "metadata": {
        "id": "eSawENBuoFDO"
      }
    },
    {
      "cell_type": "markdown",
      "source": [
        "##### Initial RBF weights"
      ],
      "metadata": {
        "id": "drS_qDktdz-B"
      }
    },
    {
      "cell_type": "code",
      "source": [
        "# initial RBF weights for digits 0-9 taken from https://github.com/mattwang44/LeNet-from-Scratch/blob/master/utils/RBF_initial_weight.py\n",
        "\n",
        "bitmap = np.zeros((10,84))\n",
        "bitmap[0]=np.array([\n",
        "    [-1, +1, +1, +1, +1, +1, -1] + \\\n",
        "    [-1, -1, -1, -1, -1, -1, -1] + \\\n",
        "    [-1, -1, +1, +1, +1, -1, -1] + \\\n",
        "    [-1, +1, +1, -1, +1, +1, -1] + \\\n",
        "    [+1, +1, -1, -1, -1, +1, +1] + \\\n",
        "    [+1, +1, -1, -1, -1, +1, +1] + \\\n",
        "    [+1, +1, -1, -1, -1, +1, +1] + \\\n",
        "    [+1, +1, -1, -1, -1, +1, +1] + \\\n",
        "    [-1, +1, +1, -1, +1, +1, -1] + \\\n",
        "    [-1, -1, +1, +1, +1, -1, -1] + \\\n",
        "    [-1, -1, -1, -1, -1, -1, -1] + \\\n",
        "    [-1, -1, -1, -1, -1, -1, -1] \\\n",
        "])\n",
        "bitmap[1]=np.array([\n",
        "    [-1, -1, -1, +1, +1, -1, -1] + \\\n",
        "    [-1, -1, +1, +1, +1, -1, -1] + \\\n",
        "    [-1, +1, +1, +1, +1, -1, -1] + \\\n",
        "    [-1, -1, -1, +1, +1, -1, -1] + \\\n",
        "    [-1, -1, -1, +1, +1, -1, -1] + \\\n",
        "    [-1, -1, -1, +1, +1, -1, -1] + \\\n",
        "    [-1, -1, -1, +1, +1, -1, -1] + \\\n",
        "    [-1, -1, -1, +1, +1, -1, -1] + \\\n",
        "    [-1, -1, -1, +1, +1, -1, -1] + \\\n",
        "    [-1, +1, +1, +1, +1, +1, +1] + \\\n",
        "    [-1, -1, -1, -1, -1, -1, -1] + \\\n",
        "    [-1, -1, -1, -1, -1, -1, -1] \\\n",
        "])\n",
        "bitmap[2]=np.array([\n",
        "    [-1, +1, +1, +1, +1, +1, -1] + \\\n",
        "    [-1, -1, -1, -1, -1, -1, -1] + \\\n",
        "    [-1, +1, +1, +1, +1, +1, -1] + \\\n",
        "    [+1, +1, -1, -1, -1, +1, +1] + \\\n",
        "    [+1, -1, -1, -1, -1, +1, +1] + \\\n",
        "    [-1, -1, -1, -1, +1, +1, -1] + \\\n",
        "    [-1, -1, +1, +1, +1, -1, -1] + \\\n",
        "    [-1, +1, +1, -1, -1, -1, -1] + \\\n",
        "    [+1, +1, -1, -1, -1, -1, -1] + \\\n",
        "    [+1, +1, +1, +1, +1, +1, +1] + \\\n",
        "    [-1, -1, -1, -1, -1, -1, -1] + \\\n",
        "    [-1, -1, -1, -1, -1, -1, -1] \\\n",
        "])\n",
        "bitmap[3]=np.array([\n",
        "    [+1, +1, +1, +1, +1, +1, +1] + \\\n",
        "    [-1, -1, -1, -1, -1, +1, +1] + \\\n",
        "    [-1, -1, -1, -1, +1, +1, -1] + \\\n",
        "    [-1, -1, -1, +1, +1, -1, -1] + \\\n",
        "    [-1, -1, +1, +1, +1, +1, -1] + \\\n",
        "    [-1, -1, -1, -1, -1, +1, +1] + \\\n",
        "    [-1, -1, -1, -1, -1, +1, +1] + \\\n",
        "    [-1, -1, -1, -1, -1, +1, +1] + \\\n",
        "    [+1, +1, -1, -1, -1, +1, +1] + \\\n",
        "    [-1, +1, +1, +1, +1, +1, -1] + \\\n",
        "    [-1, -1, -1, -1, -1, -1, -1] + \\\n",
        "    [-1, -1, -1, -1, -1, -1, -1] \\\n",
        "])\n",
        "bitmap[4]=np.array([\n",
        "    [-1, +1, +1, +1, +1, +1, -1] + \\\n",
        "    [-1, -1, -1, -1, -1, -1, -1] + \\\n",
        "    [-1, -1, -1, -1, -1, -1, -1] + \\\n",
        "    [-1, +1, +1, -1, -1, +1, +1] + \\\n",
        "    [-1, +1, +1, -1, -1, +1, +1] + \\\n",
        "    [+1, +1, +1, -1, -1, +1, +1] + \\\n",
        "    [+1, +1, -1, -1, -1, +1, +1] + \\\n",
        "    [+1, +1, -1, -1, -1, +1, +1] + \\\n",
        "    [+1, +1, -1, -1, +1, +1, +1] + \\\n",
        "    [-1, +1, +1, +1, +1, +1, +1] + \\\n",
        "    [-1, -1, -1, -1, -1, +1, +1] + \\\n",
        "    [-1, -1, -1, -1, -1, +1, +1] \\\n",
        "])\n",
        "bitmap[5]=np.array([\n",
        "    [-1, +1, +1, +1, +1, +1, -1] + \\\n",
        "    [-1, -1, -1, -1, -1, -1, -1] + \\\n",
        "    [+1, +1, +1, +1, +1, +1, +1] + \\\n",
        "    [+1, +1, -1, -1, -1, -1, -1] + \\\n",
        "    [+1, +1, -1, -1, -1, -1, -1] + \\\n",
        "    [-1, +1, +1, +1, +1, -1, -1] + \\\n",
        "    [-1, -1, +1, +1, +1, +1, -1] + \\\n",
        "    [-1, -1, -1, -1, -1, +1, +1] + \\\n",
        "    [+1, +1, -1, -1, -1, +1, +1] + \\\n",
        "    [-1, +1, +1, +1, +1, +1, -1] + \\\n",
        "    [-1, -1, -1, -1, -1, -1, -1] + \\\n",
        "    [-1, -1, -1, -1, -1, -1, -1] \\\n",
        "])\n",
        "bitmap[6]=np.array([\n",
        "    [-1, -1, +1, +1, +1, +1, -1] + \\\n",
        "    [-1, +1, +1, -1, -1, -1, -1] + \\\n",
        "    [+1, +1, -1, -1, -1, -1, -1] + \\\n",
        "    [+1, +1, -1, -1, -1, -1, -1] + \\\n",
        "    [+1, +1, +1, +1, +1, +1, -1] + \\\n",
        "    [+1, +1, +1, -1, -1, +1, +1] + \\\n",
        "    [+1, +1, -1, -1, -1, +1, +1] + \\\n",
        "    [+1, +1, -1, -1, -1, +1, +1] + \\\n",
        "    [+1, +1, +1, -1, -1, +1, +1] + \\\n",
        "    [-1, +1, +1, +1, +1, +1, -1] + \\\n",
        "    [-1, -1, -1, -1, -1, -1, -1] + \\\n",
        "    [-1, -1, -1, -1, -1, -1, -1] \\\n",
        "])\n",
        "bitmap[7]=np.array([\n",
        "    [+1, +1, +1, +1, +1, +1, +1] + \\\n",
        "    [-1, -1, -1, -1, -1, +1, +1] + \\\n",
        "    [-1, -1, -1, -1, -1, +1, +1] + \\\n",
        "    [-1, -1, -1, -1, +1, +1, -1] + \\\n",
        "    [-1, -1, -1, +1, +1, -1, -1] + \\\n",
        "    [-1, -1, -1, +1, +1, -1, -1] + \\\n",
        "    [-1, -1, +1, +1, -1, -1, -1] + \\\n",
        "    [-1, -1, +1, +1, -1, -1, -1] + \\\n",
        "    [-1, -1, +1, +1, -1, -1, -1] + \\\n",
        "    [-1, -1, +1, +1, -1, -1, -1] + \\\n",
        "    [-1, -1, -1, -1, -1, -1, -1] + \\\n",
        "    [-1, -1, -1, -1, -1, -1, -1] \\\n",
        "])\n",
        "bitmap[8]=np.array([\n",
        "    [-1, +1, +1, +1, +1, +1, -1] + \\\n",
        "    [+1, +1, -1, -1, -1, +1, +1] + \\\n",
        "    [+1, +1, -1, -1, -1, +1, +1] + \\\n",
        "    [+1, +1, -1, -1, -1, +1, +1] + \\\n",
        "    [-1, +1, +1, +1, +1, +1, -1] + \\\n",
        "    [+1, +1, -1, -1, -1, +1, +1] + \\\n",
        "    [+1, +1, -1, -1, -1, +1, +1] + \\\n",
        "    [+1, +1, -1, -1, -1, +1, +1] + \\\n",
        "    [+1, +1, -1, -1, -1, +1, +1] + \\\n",
        "    [-1, +1, +1, +1, +1, +1, -1] + \\\n",
        "    [-1, -1, -1, -1, -1, -1, -1] + \\\n",
        "    [-1, -1, -1, -1, -1, -1, -1] \\\n",
        "])\n",
        "bitmap[9]=np.array([\n",
        "    [-1, +1, +1, +1, +1, +1, -1] + \\\n",
        "    [+1, +1, -1, -1, +1, +1, +1] + \\\n",
        "    [+1, +1, -1, -1, -1, +1, +1] + \\\n",
        "    [+1, +1, -1, -1, -1, +1, +1] + \\\n",
        "    [+1, +1, -1, -1, +1, +1, +1] + \\\n",
        "    [-1, +1, +1, +1, +1, +1, +1] + \\\n",
        "    [-1, -1, -1, -1, -1, +1, +1] + \\\n",
        "    [-1, -1, -1, -1, -1, +1, +1] + \\\n",
        "    [-1, -1, -1, -1, +1, +1, -1] + \\\n",
        "    [-1, +1, +1, +1, +1, -1, -1] + \\\n",
        "    [-1, -1, -1, -1, -1, -1, -1] + \\\n",
        "    [-1, -1, -1, -1, -1, -1, -1] \\\n",
        "])\n",
        "\n",
        "bitmap = bitmap.astype(\"float32\")\n",
        "for image in bitmap:\n",
        "    plt.imshow(np.reshape(image, newshape=(12, 7)))\n",
        "    plt.show()"
      ],
      "metadata": {
        "colab": {
          "base_uri": "https://localhost:8080/"
        },
        "id": "g3Thgyuwc0c0",
        "outputId": "5e05da5c-9321-4f9e-8b90-d914ebaf7cd3"
      },
      "execution_count": null,
      "outputs": [
        {
          "output_type": "display_data",
          "data": {
            "text/plain": [
              "<Figure size 640x480 with 1 Axes>"
            ],
            "image/png": "[encoded data removed]"
          },
          "metadata": {}
        },
        {
          "output_type": "display_data",
          "data": {
            "text/plain": [
              "<Figure size 640x480 with 1 Axes>"
            ],
            "image/png": "[encoded data removed]"
          },
          "metadata": {}
        },
        {
          "output_type": "display_data",
          "data": {
            "text/plain": [
              "<Figure size 640x480 with 1 Axes>"
            ],
            "image/png": "[encoded data removed]"
          },
          "metadata": {}
        },
        {
          "output_type": "display_data",
          "data": {
            "text/plain": [
              "<Figure size 640x480 with 1 Axes>"
            ],
            "image/png": "[encoded data removed]"
          },
          "metadata": {}
        },
        {
          "output_type": "display_data",
          "data": {
            "text/plain": [
              "<Figure size 640x480 with 1 Axes>"
            ],
            "image/png": "[encoded data removed]"
          },
          "metadata": {}
        },
        {
          "output_type": "display_data",
          "data": {
            "text/plain": [
              "<Figure size 640x480 with 1 Axes>"
            ],
            "image/png": "[encoded data removed]"
          },
          "metadata": {}
        },
        {
          "output_type": "display_data",
          "data": {
            "text/plain": [
              "<Figure size 640x480 with 1 Axes>"
            ],
            "image/png": "[encoded data removed]"
          },
          "metadata": {}
        },
        {
          "output_type": "display_data",
          "data": {
            "text/plain": [
              "<Figure size 640x480 with 1 Axes>"
            ],
            "image/png": "[encoded data removed]"
          },
          "metadata": {}
        },
        {
          "output_type": "display_data",
          "data": {
            "text/plain": [
              "<Figure size 640x480 with 1 Axes>"
            ],
            "image/png": "[encoded data removed]"
          },
          "metadata": {}
        },
        {
          "output_type": "display_data",
          "data": {
            "text/plain": [
              "<Figure size 640x480 with 1 Axes>"
            ],
            "image/png": "[encoded data removed]"
          },
          "metadata": {}
        }
      ]
    },
    {
      "cell_type": "markdown",
      "source": [
        "##### Initial Implementation"
      ],
      "metadata": {
        "id": "gsV0MS1qgpex"
      }
    },
    {
      "cell_type": "code",
      "source": [
        "class RBFTest(tf.keras.layers.Layer):\n",
        "    def __init__(self, **kwargs):\n",
        "        super().__init__(**kwargs)\n",
        "        self.W = tf.Variable(bitmap)\n",
        "\n",
        "    def call(self, x, **kwargs):\n",
        "        return tf.reduce_sum((tf.tile(x, multiples=[bitmap.shape[0], 1]) - bitmap) ** 2, axis=1)\n",
        "\n",
        "RBFTest()(np.random.normal(size=(1, 84))) # working initial implementation"
      ],
      "metadata": {
        "colab": {
          "base_uri": "https://localhost:8080/"
        },
        "id": "cFWk2HO0gvmC",
        "outputId": "1c1b5875-f580-4707-935c-67d11fc886dd"
      },
      "execution_count": null,
      "outputs": [
        {
          "output_type": "execute_result",
          "data": {
            "text/plain": [
              "<tf.Tensor: shape=(10,), dtype=float32, numpy=\n",
              "array([148.45868, 172.70993, 165.43506, 159.66895, 149.10777, 149.83156,\n",
              "       135.51645, 165.10916, 145.00513, 158.41066], dtype=float32)>"
            ]
          },
          "metadata": {},
          "execution_count": 28
        }
      ]
    },
    {
      "cell_type": "markdown",
      "source": [
        "#### **Euclidean Radial Basis Function `RBF` (OUTPUT)**"
      ],
      "metadata": {
        "id": "vlZI4lSoaAwx"
      }
    },
    {
      "cell_type": "code",
      "source": [
        "input = tf.random.normal(shape=(2, 3))\n",
        "d1 = tf.keras.layers.Dense(84, activation=\"elu\")(input)\n",
        "d1"
      ],
      "metadata": {
        "colab": {
          "base_uri": "https://localhost:8080/"
        },
        "id": "8TOjpA6jbz1i",
        "outputId": "dd542458-7a2f-4f63-a279-f7d7cd56dd0f"
      },
      "execution_count": null,
      "outputs": [
        {
          "output_type": "execute_result",
          "data": {
            "text/plain": [
              "<tf.Tensor: shape=(2, 84), dtype=float32, numpy=\n",
              "array([[ 0.08437452, -0.02169438, -0.19019498,  0.32198733, -0.0962007 ,\n",
              "        -0.10684289, -0.04193331, -0.01298726, -0.08031214, -0.17527802,\n",
              "         0.3376028 , -0.20596956,  0.3841939 ,  0.13548572, -0.02796996,\n",
              "         0.18353736,  0.53781074, -0.21297817, -0.05725447,  0.02802069,\n",
              "         0.31448415,  0.01670392, -0.13060415, -0.167889  , -0.13731466,\n",
              "         0.19895163, -0.16916631, -0.03396252, -0.22856867,  0.01263982,\n",
              "        -0.18708062,  0.14610974, -0.033421  , -0.05176305,  0.28296983,\n",
              "         0.32533556, -0.06452569, -0.07565358, -0.05133807,  0.1008071 ,\n",
              "         0.17266983,  0.1658667 ,  0.16249608,  0.27449226, -0.01949005,\n",
              "         0.35160238,  0.05828483,  0.29654476, -0.16351105, -0.29101604,\n",
              "         0.19529818, -0.18038265,  0.0027843 , -0.00347658, -0.18156704,\n",
              "        -0.0416095 ,  0.04352657,  0.18929642,  0.16209942, -0.13237129,\n",
              "        -0.02680629, -0.21788333,  0.17917834,  0.14575693,  0.1294018 ,\n",
              "        -0.01658617, -0.13871041,  0.19838202,  0.06928531, -0.07122653,\n",
              "        -0.03470972, -0.21450254,  0.02531493,  0.22360595, -0.24765292,\n",
              "         0.0739127 , -0.24862064,  0.08637711, -0.27849838, -0.08545674,\n",
              "        -0.01116604, -0.17832203, -0.2877229 ,  0.09284268],\n",
              "       [ 0.10939135,  0.4556569 , -0.41908938,  0.19805191,  0.07183878,\n",
              "         0.2797941 ,  0.6425113 , -0.33968186, -0.42724878, -0.42273396,\n",
              "         0.19750851,  0.36244977,  0.27077836,  0.42854965, -0.27738264,\n",
              "         0.08268188,  0.78058714, -0.44449782, -0.10087676, -0.07759674,\n",
              "        -0.15522921,  0.49045515, -0.40796152,  0.3527332 ,  0.01079787,\n",
              "        -0.11085212, -0.56819606,  0.22437151, -0.46287465,  0.51731503,\n",
              "        -0.09698937,  0.18306741,  0.174077  , -0.15625389,  0.018585  ,\n",
              "        -0.14297593, -0.14993942, -0.38990968, -0.02684964,  0.31315657,\n",
              "         0.66988003,  0.52361524, -0.0342298 , -0.24943344, -0.14644262,\n",
              "         0.3845865 , -0.04370342, -0.13408184, -0.07924937, -0.37918267,\n",
              "         0.28810397, -0.23410927,  0.04828532,  0.12128127, -0.12940516,\n",
              "        -0.19886062, -0.32903934, -0.04369624,  0.2033763 , -0.2788967 ,\n",
              "         0.31991512, -0.45069927,  0.28679338,  0.48801494,  0.416053  ,\n",
              "        -0.35350952,  0.01252234,  0.19612905,  0.03922044,  0.11772504,\n",
              "        -0.4153011 , -0.4009778 ,  0.5943283 , -0.28102717, -0.29945728,\n",
              "        -0.23145017, -0.50762266, -0.10456483, -0.22295426,  0.3939837 ,\n",
              "         0.32028508, -0.0174603 , -0.42665887,  0.40533194]],\n",
              "      dtype=float32)>"
            ]
          },
          "metadata": {},
          "execution_count": 29
        }
      ]
    },
    {
      "cell_type": "code",
      "source": [
        "class RBF(tf.keras.layers.Layer):\n",
        "    def __init__(self, weights, **kwargs):\n",
        "        super().__init__(**kwargs)\n",
        "        self.W = weights # weights are kept constant and are not adaptatble\n",
        "\n",
        "    def call(self, x, **kwargs):\n",
        "        return tf.reduce_sum((tf.tile(x[:, np.newaxis], multiples=[1, self.W.shape[0], 1]) - self.W) ** 2, axis=2)\n",
        "\n",
        "rbf_build = RBF(bitmap)\n",
        "\n",
        "for i in range(2):\n",
        "    with tf.GradientTape() as tape:\n",
        "        out = rbf_build(d1)\n",
        "        g = tape.gradient(out, rbf_build.trainable_variables)\n",
        "        tf.keras.optimizers.SGD(learning_rate=0.001).apply_gradients(zip(g, rbf_build.trainable_variables)) # works during back propagation"
      ],
      "metadata": {
        "id": "QXjjGGiOaJp6"
      },
      "execution_count": null,
      "outputs": []
    },
    {
      "cell_type": "markdown",
      "source": [
        "#### **Loss Function**"
      ],
      "metadata": {
        "id": "opTRSiJFWUit"
      }
    },
    {
      "cell_type": "code",
      "source": [
        "def lenet5_loss(y_true, y_pred):\n",
        "    A = tf.cast(~tf.cast(y_true, dtype=\"bool\"), dtype=\"float32\")\n",
        "    return tf.reduce_mean(tf.reduce_sum(y_pred * y_true, axis=1) + tf.math.log((tf.math.exp(-1.)) + tf.reduce_sum(tf.math.exp(-y_pred * A))))"
      ],
      "metadata": {
        "id": "aV0tbQ7RWXSV"
      },
      "execution_count": null,
      "outputs": []
    },
    {
      "cell_type": "markdown",
      "source": [
        "#### **`LenetInit`** **Initialiser**"
      ],
      "metadata": {
        "id": "wWzY2zZfBs1_"
      }
    },
    {
      "cell_type": "code",
      "source": [
        "class LenetInit(tf.keras.initializers.Initializer):\n",
        "    def __init__(self, c=2.4):\n",
        "        self.c = c\n",
        "\n",
        "    def __call__(self, shape, dtype, **kwargs):\n",
        "        return tf.random.uniform(shape=shape,minval=-(self.c / shape[0]), maxval=(self.c / shape[0]))\n",
        "\n",
        "    def get_config(self):\n",
        "        return {\"c\": self.c}\n"
      ],
      "metadata": {
        "id": "mmQ4UkFzByOt"
      },
      "execution_count": null,
      "outputs": []
    },
    {
      "cell_type": "markdown",
      "source": [
        "#### Model Test"
      ],
      "metadata": {
        "id": "pr-CvT8gachH"
      }
    },
    {
      "cell_type": "code",
      "source": [
        "model_test = tf.keras.models.Sequential([\n",
        "    tf.keras.layers.Input(shape=(32, 32, 1)),\n",
        "    tf.keras.layers.Convolution2D(filters=6, kernel_size=(5, 5)), # C1\n",
        "    TrainableAveragePooling2D(), # S2\n",
        "\n",
        "    PartialConv2D(PARTIAL_CONNECTION_MAP, filters=16, kernel_size=(5, 5)), #C3\n",
        "\n",
        "    TrainableAveragePooling2D(), # S4\n",
        "    tf.keras.layers.Convolution2D(filters=120, kernel_size=(5, 5)), # C5\n",
        "\n",
        "    tf.keras.layers.Flatten(), # Flatten\n",
        "\n",
        "    tf.keras.layers.Dense(84, activation=scaledTanh), #F6\n",
        "    RBF(bitmap) # OUTPUT\n",
        "])\n",
        "\n",
        "x = next(mnist_ds.take(1).as_numpy_iterator())\n",
        "\n",
        "out = model_test(x[0][np.newaxis, ..., np.newaxis])\n",
        "\n",
        "model_test.summary()"
      ],
      "metadata": {
        "colab": {
          "base_uri": "https://localhost:8080/"
        },
        "id": "neLy3fmCaiTN",
        "outputId": "a6985d76-869d-4882-d50f-e3eef39b71f1"
      },
      "execution_count": null,
      "outputs": [
        {
          "output_type": "stream",
          "name": "stdout",
          "text": [
            "Model: \"sequential\"\n",
            "_________________________________________________________________\n",
            " Layer (type)                Output Shape              Param #   \n",
            "=================================================================\n",
            " conv2d_4 (Conv2D)           (None, 28, 28, 6)         156       \n",
            "                                                                 \n",
            " trainable_average_pooling2  (None, 14, 14, 6)         12        \n",
            " d_1 (TrainableAveragePooli                                      \n",
            " ng2D)                                                           \n",
            "                                                                 \n",
            " partial_conv2d_3 (PartialC  (None, 10, 10, 16)        2400      \n",
            " onv2D)                                                          \n",
            "                                                                 \n",
            " trainable_average_pooling2  (None, 5, 5, 16)          32        \n",
            " d_2 (TrainableAveragePooli                                      \n",
            " ng2D)                                                           \n",
            "                                                                 \n",
            " conv2d_5 (Conv2D)           (None, 1, 1, 120)         48120     \n",
            "                                                                 \n",
            " flatten (Flatten)           (None, 120)               0         \n",
            "                                                                 \n",
            " dense_1 (Dense)             (None, 84)                10164     \n",
            "                                                                 \n",
            " rbf_1 (RBF)                 (None, 10)                0         \n",
            "                                                                 \n",
            "=================================================================\n",
            "Total params: 60884 (237.83 KB)\n",
            "Trainable params: 60884 (237.83 KB)\n",
            "Non-trainable params: 0 (0.00 Byte)\n",
            "_________________________________________________________________\n"
          ]
        }
      ]
    },
    {
      "cell_type": "code",
      "source": [
        "def test_loss(y_true, y_pred):\n",
        "    A = tf.cast(~tf.cast(y_true, dtype=\"bool\"), dtype=\"float32\")\n",
        "    return tf.reduce_mean(tf.reduce_sum(y_pred * y_true, axis=1) + tf.math.log((tf.math.exp(-1.)) + tf.reduce_sum(tf.math.exp(-y_pred * A))))\n",
        "\n",
        "test_loss(next(mnist_ds.take(1).as_numpy_iterator())[1], tf.random.normal(shape=(1, 10)))"
      ],
      "metadata": {
        "colab": {
          "base_uri": "https://localhost:8080/"
        },
        "id": "gellNxCLTZuV",
        "outputId": "2b958e68-1943-4ace-c13c-ed539b5e028f"
      },
      "execution_count": null,
      "outputs": [
        {
          "output_type": "execute_result",
          "data": {
            "text/plain": [
              "<tf.Tensor: shape=(), dtype=float32, numpy=3.28987>"
            ]
          },
          "metadata": {},
          "execution_count": 34
        }
      ]
    },
    {
      "cell_type": "code",
      "source": [
        "model_test.compile(\n",
        "    optimizer=tf.keras.optimizers.Nadam(learning_rate=0.0001),\n",
        "    loss=test_loss,\n",
        ")\n",
        "\n",
        "model_test.fit(mnist_ds.batch(32).prefetch(8), epochs=10, use_multiprocessing=True, workers=32)"
      ],
      "metadata": {
        "colab": {
          "base_uri": "https://localhost:8080/"
        },
        "id": "55rYErYUl4AK",
        "outputId": "57a0d296-ddec-413a-92bd-cf44158516e3"
      },
      "execution_count": 106,
      "outputs": [
        {
          "output_type": "stream",
          "name": "stdout",
          "text": [
            "Epoch 1/10\n",
            "1875/1875 [==============================] - 16s 7ms/step - loss: 43.1965\n",
            "Epoch 2/10\n",
            "1875/1875 [==============================] - 13s 7ms/step - loss: 32.1521\n",
            "Epoch 3/10\n",
            "1875/1875 [==============================] - 13s 7ms/step - loss: 28.5781\n",
            "Epoch 4/10\n",
            "1875/1875 [==============================] - 13s 7ms/step - loss: 25.8352\n",
            "Epoch 5/10\n",
            "1875/1875 [==============================] - 13s 7ms/step - loss: 23.4656\n",
            "Epoch 6/10\n",
            "1875/1875 [==============================] - 13s 7ms/step - loss: 21.6156\n",
            "Epoch 7/10\n",
            "1875/1875 [==============================] - 13s 7ms/step - loss: 20.1440\n",
            "Epoch 8/10\n",
            "1875/1875 [==============================] - 14s 7ms/step - loss: 18.9280\n",
            "Epoch 9/10\n",
            "1875/1875 [==============================] - 13s 7ms/step - loss: 17.9551\n",
            "Epoch 10/10\n",
            "1875/1875 [==============================] - 13s 7ms/step - loss: 17.1817\n"
          ]
        },
        {
          "output_type": "execute_result",
          "data": {
            "text/plain": [
              "<keras.src.callbacks.History at 0x7e5f81346830>"
            ]
          },
          "metadata": {},
          "execution_count": 106
        }
      ]
    },
    {
      "cell_type": "code",
      "source": [
        "sample = next(mnist_ds.shuffle(buffer_size=128).batch(10).take(1).as_numpy_iterator())\n",
        "pred = np.argmin(model_test.predict(sample[0]), axis=1)\n",
        "\n",
        "pred == np.argmax(sample[1], axis=1)"
      ],
      "metadata": {
        "colab": {
          "base_uri": "https://localhost:8080/"
        },
        "id": "9GqFBcB8ZbwD",
        "outputId": "8707dab6-2dce-44cd-810e-a7442c326fb3"
      },
      "execution_count": 107,
      "outputs": [
        {
          "output_type": "stream",
          "name": "stdout",
          "text": [
            "1/1 [==============================] - 0s 88ms/step\n"
          ]
        },
        {
          "output_type": "execute_result",
          "data": {
            "text/plain": [
              "array([ True,  True,  True,  True,  True, False, False, False,  True,\n",
              "        True])"
            ]
          },
          "metadata": {},
          "execution_count": 107
        }
      ]
    },
    {
      "cell_type": "code",
      "source": [
        "for (x, y_pred), y_true in zip(zip(sample[0], pred), np.argmax(sample[1], axis=1)):\n",
        "    plt.axis(\"off\")\n",
        "    plt.title(f\"PRED: {y_pred}, TRUE: {y_true}\", fontdict={\n",
        "        \"color\": \"green\" if y_pred == y_true else \"red\"\n",
        "        })\n",
        "    plt.imshow(x)\n",
        "    plt.show()"
      ],
      "metadata": {
        "colab": {
          "base_uri": "https://localhost:8080/",
          "height": 1000
        },
        "id": "fxJrtuzmfCHe",
        "outputId": "017004a9-8e10-43e6-befc-271a3db2026b"
      },
      "execution_count": 108,
      "outputs": [
        {
          "output_type": "display_data",
          "data": {
            "text/plain": [
              "<Figure size 640x480 with 1 Axes>"
            ],
            "image/png": "[encoded data removed]"
          },
          "metadata": {}
        },
        {
          "output_type": "display_data",
          "data": {
            "text/plain": [
              "<Figure size 640x480 with 1 Axes>"
            ],
            "image/png": "[encoded data removed]"
          },
          "metadata": {}
        },
        {
          "output_type": "display_data",
          "data": {
            "text/plain": [
              "<Figure size 640x480 with 1 Axes>"
            ],
            "image/png": "[encoded data removed]"
          },
          "metadata": {}
        },
        {
          "output_type": "display_data",
          "data": {
            "text/plain": [
              "<Figure size 640x480 with 1 Axes>"
            ],
            "image/png": "[encoded data removed]"
          },
          "metadata": {}
        },
        {
          "output_type": "display_data",
          "data": {
            "text/plain": [
              "<Figure size 640x480 with 1 Axes>"
            ],
            "image/png": "[encoded data removed]"
          },
          "metadata": {}
        },
        {
          "output_type": "display_data",
          "data": {
            "text/plain": [
              "<Figure size 640x480 with 1 Axes>"
            ],
            "image/png": "[encoded data removed]"
          },
          "metadata": {}
        },
        {
          "output_type": "display_data",
          "data": {
            "text/plain": [
              "<Figure size 640x480 with 1 Axes>"
            ],
            "image/png": "[encoded data removed]"
          },
          "metadata": {}
        },
        {
          "output_type": "display_data",
          "data": {
            "text/plain": [
              "<Figure size 640x480 with 1 Axes>"
            ],
            "image/png": "[encoded data removed]"
          },
          "metadata": {}
        },
        {
          "output_type": "display_data",
          "data": {
            "text/plain": [
              "<Figure size 640x480 with 1 Axes>"
            ],
            "image/png": "[encoded data removed]"
          },
          "metadata": {}
        },
        {
          "output_type": "display_data",
          "data": {
            "text/plain": [
              "<Figure size 640x480 with 1 Axes>"
            ],
            "image/png": "[encoded data removed]"
          },
          "metadata": {}
        }
      ]
    },
    {
      "cell_type": "code",
      "source": [
        "model_test.save(\"/content/drive/MyDrive/test_train_10epochs-02-09-2023\")"
      ],
      "metadata": {
        "id": "2EgwBBL8vmvt"
      },
      "execution_count": null,
      "outputs": []
    },
    {
      "cell_type": "markdown",
      "source": [
        "#### **Model**"
      ],
      "metadata": {
        "id": "doL0kIkdT_fs"
      }
    },
    {
      "cell_type": "code",
      "source": [
        "class Lenet5(tf.keras.models.Model):\n",
        "    def __init__(self):\n",
        "        super().__init__()\n",
        "        self.C1 = tf.keras.layers.Convolution2D(filters=6,\n",
        "                                                kernel_size=(5, 5),\n",
        "                                                input_shape=(32, 32, 1),\n",
        "                                                kernel_initializer=LenetInit(),\n",
        "                                                name=\"C1\") # C1\n",
        "\n",
        "        self.S2 = TrainableAveragePooling2D(name=\"S1\") # S2\n",
        "\n",
        "        self.C3 = PartialConv2D(PARTIAL_CONNECTION_MAP,\n",
        "                                filters=16,\n",
        "                                kernel_size=(5, 5),\n",
        "                                kernel_initializer=LenetInit(),\n",
        "                                name=\"C3\") #C3\n",
        "\n",
        "        self.S4 = TrainableAveragePooling2D(name=\"S4\") # S4\n",
        "\n",
        "        self.C5 = tf.keras.layers.Convolution2D(filters=120,\n",
        "                                                kernel_size=(5, 5),\n",
        "                                                kernel_initializer=LenetInit(),\n",
        "                                                name=\"C5\") # C5\n",
        "\n",
        "        self.flatten = tf.keras.layers.Flatten(name=\"Flatten\") # Flatten\n",
        "\n",
        "        self.F6 = tf.keras.layers.Dense(84,\n",
        "                                        activation=scaledTanh,\n",
        "                                        kernel_initializer=LenetInit(),\n",
        "                                        name=\"F6\") #F6\n",
        "\n",
        "        self.out = RBF(bitmap, name=\"output\") # OUTPUT\n",
        "\n",
        "\n",
        "    def call(self, input):\n",
        "        x = self.C1(input)\n",
        "        x = self.S2(x)\n",
        "        x = self.C3(x)\n",
        "        x = self.S4(x)\n",
        "        x = self.C5(x)\n",
        "        x = self.flatten(x)\n",
        "        x = self.F6(x)\n",
        "        return  self.out(x)\n",
        "\n",
        "lenet5 = Lenet5()\n",
        "lenet5(next(mnist_ds.batch(32).as_numpy_iterator())[0])\n",
        "# lenet5.compile(\n",
        "#     optimizer=tf.keras.optimizers.Nadam(learning_rate=0.0001),\n",
        "#     loss=test_loss,\n",
        "# )\n",
        "\n",
        "lenet5.summary()\n",
        "# lenet5.fit(mnist_ds.batch(32))"
      ],
      "metadata": {
        "id": "bzYo-GvWUFT3",
        "colab": {
          "base_uri": "https://localhost:8080/"
        },
        "outputId": "a14ccb7d-003c-4b2b-f679-047af5e2139e"
      },
      "execution_count": null,
      "outputs": [
        {
          "output_type": "stream",
          "name": "stdout",
          "text": [
            "Model: \"lenet5\"\n",
            "_________________________________________________________________\n",
            " Layer (type)                Output Shape              Param #   \n",
            "=================================================================\n",
            " C1 (Conv2D)                 multiple                  156       \n",
            "                                                                 \n",
            " S1 (TrainableAveragePoolin  multiple                  12        \n",
            " g2D)                                                            \n",
            "                                                                 \n",
            " C3 (PartialConv2D)          multiple                  2400      \n",
            "                                                                 \n",
            " S4 (TrainableAveragePoolin  multiple                  32        \n",
            " g2D)                                                            \n",
            "                                                                 \n",
            " C5 (Conv2D)                 multiple                  48120     \n",
            "                                                                 \n",
            " Flatten (Flatten)           multiple                  0         \n",
            "                                                                 \n",
            " F6 (Dense)                  multiple                  10164     \n",
            "                                                                 \n",
            " output (RBF)                multiple                  0         \n",
            "                                                                 \n",
            "=================================================================\n",
            "Total params: 60884 (237.83 KB)\n",
            "Trainable params: 60884 (237.83 KB)\n",
            "Non-trainable params: 0 (0.00 Byte)\n",
            "_________________________________________________________________\n"
          ]
        }
      ]
    },
    {
      "cell_type": "markdown",
      "source": [
        "#### Custom Training Loop Test"
      ],
      "metadata": {
        "id": "efWDKK6t4aOJ"
      }
    },
    {
      "cell_type": "code",
      "source": [
        "class Lenet5TrainerTest(object):\n",
        "    def __init__(self):\n",
        "        self.T_SUBSET_SIZE = 8000\n",
        "        self.T_DATASET = mnist_ds.take(self.T_SUBSET_SIZE)\n",
        "        self.T_OPTIMIZER = tf.keras.optimizers.Adam(learning_rate=0.0001)\n",
        "        self.T_LOSS = lenet5_loss\n",
        "        self.T_BATCH_SIZE = 32\n",
        "        self.T_EPOCHS = 1\n",
        "\n",
        "        self.training_loss = 0\n",
        "\n",
        "    def step(self, x, y):\n",
        "        with tf.GradientTape() as tape:\n",
        "            out = lenet5(x)\n",
        "            self.training_loss = (self.training_loss + self.T_LOSS(y, out))\n",
        "\n",
        "        grads = tape.gradient(self.training_loss, lenet5.trainable_variables)\n",
        "        self.T_OPTIMIZER.apply_gradients(zip(grads, lenet5.trainable_variables))\n",
        "\n",
        "    def train(self):\n",
        "        for i in range(self.T_EPOCHS):\n",
        "            self.training_loss = 0\n",
        "\n",
        "            for x, y in self.T_DATASET.batch(self.T_BATCH_SIZE):\n",
        "                self.step(x, y)\n",
        "\n",
        "            print((self.training_loss / self.T_SUBSET_SIZE).numpy())\n",
        "\n",
        "trainer = Lenet5TrainerTest()\n",
        "trainer.train()"
      ],
      "metadata": {
        "id": "1cuDxBX35Y-f",
        "colab": {
          "base_uri": "https://localhost:8080/"
        },
        "outputId": "424f63b8-073c-4af8-e502-4993785a05fd"
      },
      "execution_count": null,
      "outputs": [
        {
          "output_type": "stream",
          "name": "stderr",
          "text": [
            "WARNING:tensorflow:5 out of the last 5 calls to <function _BaseOptimizer._update_step_xla at 0x7e5fd01c72e0> triggered tf.function retracing. Tracing is expensive and the excessive number of tracings could be due to (1) creating @tf.function repeatedly in a loop, (2) passing tensors with different shapes, (3) passing Python objects instead of tensors. For (1), please define your @tf.function outside of the loop. For (2), @tf.function has reduce_retracing=True option that can avoid unnecessary retracing. For (3), please refer to https://www.tensorflow.org/guide/function#controlling_retracing and https://www.tensorflow.org/api_docs/python/tf/function for  more details.\n",
            "WARNING:tensorflow:6 out of the last 6 calls to <function _BaseOptimizer._update_step_xla at 0x7e5fd01c72e0> triggered tf.function retracing. Tracing is expensive and the excessive number of tracings could be due to (1) creating @tf.function repeatedly in a loop, (2) passing tensors with different shapes, (3) passing Python objects instead of tensors. For (1), please define your @tf.function outside of the loop. For (2), @tf.function has reduce_retracing=True option that can avoid unnecessary retracing. For (3), please refer to https://www.tensorflow.org/guide/function#controlling_retracing and https://www.tensorflow.org/api_docs/python/tf/function for  more details.\n"
          ]
        },
        {
          "output_type": "stream",
          "name": "stdout",
          "text": [
            "1.9295797\n"
          ]
        }
      ]
    },
    {
      "cell_type": "code",
      "source": [
        "sample = next(mnist_ds.batch(20).take(1).as_numpy_iterator())\n",
        "for p, y in zip(lenet5(sample[0]), sample[1]):\n",
        "    print(np.argmax(y), np.argmin(p))"
      ],
      "metadata": {
        "colab": {
          "base_uri": "https://localhost:8080/"
        },
        "id": "3IuzHCioJyZx",
        "outputId": "b2b60003-ea1e-4acd-eecf-c8206584af7a"
      },
      "execution_count": null,
      "outputs": [
        {
          "output_type": "stream",
          "name": "stdout",
          "text": [
            "7 3\n",
            "7 3\n",
            "4 3\n",
            "0 3\n",
            "2 3\n",
            "8 3\n",
            "1 3\n",
            "0 3\n",
            "5 3\n",
            "6 3\n",
            "1 3\n",
            "0 3\n",
            "1 3\n",
            "9 3\n",
            "3 3\n",
            "1 3\n",
            "6 3\n",
            "3 3\n",
            "6 3\n",
            "9 3\n"
          ]
        }
      ]
    },
    {
      "cell_type": "markdown",
      "source": [
        "#### Custom Optimisation Test (simplified Stochastic Diagonal Levenberg-Marquardt method) - using `tensorflow_addons`\n",
        "> *... where an individual learning\n",
        "rate (step size) is computed for each parameter (weight)\n",
        "before each pass through the training set ...*"
      ],
      "metadata": {
        "id": "bh8FslcU5mqg"
      }
    },
    {
      "cell_type": "markdown",
      "source": [
        "![image.png](data:image/png;base64,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)"
      ],
      "metadata": {
        "id": "1SMbYAaY6bh5"
      }
    },
    {
      "cell_type": "markdown",
      "source": [
        "here the learning rate is divided by the hessian values of the gradient added to a preset constant. The paper makes an approximation of the hessian, however I will be making a simpler version. Instead of the approxiamte hessian values, the mean value of the hessian will be added."
      ],
      "metadata": {
        "id": "WmuuJq2x6eja"
      }
    },
    {
      "cell_type": "code",
      "source": [
        "len(lenet5.trainable_variables)"
      ],
      "metadata": {
        "colab": {
          "base_uri": "https://localhost:8080/"
        },
        "id": "8mtKRrts0F9g",
        "outputId": "de11f5bf-ede8-4210-9147-85551a00ea0e"
      },
      "execution_count": null,
      "outputs": [
        {
          "output_type": "execute_result",
          "data": {
            "text/plain": [
              "11"
            ]
          },
          "metadata": {},
          "execution_count": 42
        }
      ]
    },
    {
      "cell_type": "code",
      "source": [
        "T_SUBSET_SIZE = 8000\n",
        "T_DATASET = mnist_ds.take(T_SUBSET_SIZE)\n",
        "T_OPTIMIZER = tf.keras.optimizers.Adam(learning_rate=0.0001)\n",
        "T_LOSS = lenet5_loss\n",
        "T_BATCH_SIZE = 32\n",
        "T_EPOCHS = 1\n",
        "training_loss = 0"
      ],
      "metadata": {
        "id": "EkZJVl-16Xsw"
      },
      "execution_count": null,
      "outputs": []
    },
    {
      "cell_type": "code",
      "source": [
        "instance = next(T_DATASET.batch(500).take(1).as_numpy_iterator())\n",
        "\n",
        "with tf.GradientTape() as test_htape:\n",
        "    with tf.GradientTape() as test_jtape:\n",
        "        out = tf.reduce_mean(lenet5(instance[0]))\n",
        "    jaccobeans = test_jtape.gradient(out, lenet5.trainable_variables)\n",
        "\n",
        "test_hessians = test_htape.gradient(jaccobeans, lenet5.trainable_variables)"
      ],
      "metadata": {
        "id": "LRdWAIJjmCtU"
      },
      "execution_count": null,
      "outputs": []
    },
    {
      "cell_type": "code",
      "source": [
        "for i in range(len(lenet5.trainable_variables)):\n",
        "    print(np.sum(test_hessians[i] / test_hessians[i].numpy().size) / 32)  # average hessian values\n",
        "    # some are negative, therefore the aboslute value will be taken."
      ],
      "metadata": {
        "colab": {
          "base_uri": "https://localhost:8080/"
        },
        "id": "B5HTZf5X0hJa",
        "outputId": "8ac4e729-00f5-42ec-80d2-970f0b99382c"
      },
      "execution_count": null,
      "outputs": [
        {
          "output_type": "stream",
          "name": "stdout",
          "text": [
            "-0.046435095369815826\n",
            "-0.04978257417678833\n",
            "0.015222562476992607\n",
            "-0.17864742875099182\n",
            "0.17962805926799774\n",
            "-0.6888518333435059\n",
            "0.585761547088623\n",
            "0.10900343954563141\n",
            "0.17352277040481567\n",
            "-0.14588376879692078\n",
            "-0.46682098507881165\n"
          ]
        }
      ]
    },
    {
      "cell_type": "code",
      "source": [
        "for i in range(len(lenet5.trainable_variables)):\n",
        "    print(np.abs(np.sum(test_hessians[i] / test_hessians[i].numpy().size) / 32))  # average hessian values"
      ],
      "metadata": {
        "colab": {
          "base_uri": "https://localhost:8080/"
        },
        "id": "H_iq6pvG7ij-",
        "outputId": "b3fbbd6c-7b54-46e6-9fe9-9a5a4de70285"
      },
      "execution_count": null,
      "outputs": [
        {
          "output_type": "stream",
          "name": "stdout",
          "text": [
            "0.046435095369815826\n",
            "0.04978257417678833\n",
            "0.015222562476992607\n",
            "0.17864742875099182\n",
            "0.17962805926799774\n",
            "0.6888518333435059\n",
            "0.585761547088623\n",
            "0.10900343954563141\n",
            "0.17352277040481567\n",
            "0.14588376879692078\n",
            "0.46682098507881165\n"
          ]
        }
      ]
    },
    {
      "cell_type": "code",
      "source": [
        "# list of learning rates\n",
        "test_lr_list = list(map(lambda i: np.abs(np.sum(test_hessians[i] / test_hessians[i].numpy().size) / 32), range(len(lenet5.trainable_variables))))"
      ],
      "metadata": {
        "id": "c_ge1O-1S648"
      },
      "execution_count": null,
      "outputs": []
    },
    {
      "cell_type": "code",
      "source": [
        "# have layer to optimiser mapping\n",
        "test_optimisers = [tf.keras.optimizers.SGD(learning_rate=lr) for lr in test_lr_list]\n",
        "test_optimisers"
      ],
      "metadata": {
        "id": "u1BCI_QfT53z",
        "colab": {
          "base_uri": "https://localhost:8080/"
        },
        "outputId": "ae978e7c-2631-4d09-c17e-ae5692b83802"
      },
      "execution_count": null,
      "outputs": [
        {
          "output_type": "execute_result",
          "data": {
            "text/plain": [
              "[<keras.src.optimizers.sgd.SGD at 0x7e5fd004d990>,\n",
              " <keras.src.optimizers.sgd.SGD at 0x7e5fd004fd90>,\n",
              " <keras.src.optimizers.sgd.SGD at 0x7e5fd004ee30>,\n",
              " <keras.src.optimizers.sgd.SGD at 0x7e5fd0163670>,\n",
              " <keras.src.optimizers.sgd.SGD at 0x7e5fd0163cd0>,\n",
              " <keras.src.optimizers.sgd.SGD at 0x7e5fd01609d0>,\n",
              " <keras.src.optimizers.sgd.SGD at 0x7e5fd0160ac0>,\n",
              " <keras.src.optimizers.sgd.SGD at 0x7e5fd01620e0>,\n",
              " <keras.src.optimizers.sgd.SGD at 0x7e5fd0160fa0>,\n",
              " <keras.src.optimizers.sgd.SGD at 0x7e5fd01612d0>,\n",
              " <keras.src.optimizers.sgd.SGD at 0x7e5fd0161180>]"
            ]
          },
          "metadata": {},
          "execution_count": 48
        }
      ]
    },
    {
      "cell_type": "code",
      "source": [
        "for op in test_optimisers:\n",
        "    print(op.learning_rate)"
      ],
      "metadata": {
        "colab": {
          "base_uri": "https://localhost:8080/"
        },
        "id": "4f66Z6_-6kf3",
        "outputId": "de9d834e-6186-4c24-bc3f-08aa01ed050f"
      },
      "execution_count": null,
      "outputs": [
        {
          "output_type": "stream",
          "name": "stdout",
          "text": [
            "<tf.Variable 'learning_rate:0' shape=() dtype=float32, numpy=0.046435095>\n",
            "<tf.Variable 'learning_rate:0' shape=() dtype=float32, numpy=0.049782574>\n",
            "<tf.Variable 'learning_rate:0' shape=() dtype=float32, numpy=0.0152225625>\n",
            "<tf.Variable 'learning_rate:0' shape=() dtype=float32, numpy=0.17864743>\n",
            "<tf.Variable 'learning_rate:0' shape=() dtype=float32, numpy=0.17962806>\n",
            "<tf.Variable 'learning_rate:0' shape=() dtype=float32, numpy=0.68885183>\n",
            "<tf.Variable 'learning_rate:0' shape=() dtype=float32, numpy=0.58576155>\n",
            "<tf.Variable 'learning_rate:0' shape=() dtype=float32, numpy=0.10900344>\n",
            "<tf.Variable 'learning_rate:0' shape=() dtype=float32, numpy=0.17352277>\n",
            "<tf.Variable 'learning_rate:0' shape=() dtype=float32, numpy=0.14588377>\n",
            "<tf.Variable 'learning_rate:0' shape=() dtype=float32, numpy=0.46682099>\n"
          ]
        }
      ]
    },
    {
      "cell_type": "markdown",
      "source": [
        "#### **Custom Training Loop with Custom Optimisation**"
      ],
      "metadata": {
        "id": "3mfer73k8NGC"
      }
    },
    {
      "cell_type": "code",
      "source": [
        "lenet5 = Lenet5()\n",
        "\n",
        "\n",
        "def lr_step(hessian): return np.abs(np.sum(hessian / hessian.numpy().size) / 32)\n",
        "\n",
        "\n",
        "class Lenet5Trainer(object):\n",
        "    def __init__(self,\n",
        "                 optimiser=\"adam\",\n",
        "                 subset_size=8000,\n",
        "                 loss=lenet5_loss,\n",
        "                 batch_size=32,):\n",
        "\n",
        "        self.SUBSET_SIZE = subset_size\n",
        "        self.DATASET = mnist_ds.take(self.SUBSET_SIZE)\n",
        "        self.OPTIMISERS_MAPPING = []\n",
        "        self.LOSS = loss\n",
        "        self.BATCH_SIZE = batch_size\n",
        "        self.EPOCHS = None\n",
        "        self.OPTIMISER = optimiser\n",
        "\n",
        "        self.training_loss = 0\n",
        "\n",
        "    def step(self, x, y, i):\n",
        "        with tf.GradientTape() as tape:\n",
        "            print(f\"\\rE{i + 1}: ..\", end=\"\")\n",
        "            out = lenet5(x)\n",
        "            self.training_loss = (self.training_loss + self.LOSS(y, out))\n",
        "\n",
        "        grads = tape.gradient(self.training_loss, lenet5.trainable_variables)\n",
        "\n",
        "        print(f\"\\rE{i + 1}: ...\", end=\"\")\n",
        "        for idx, op in enumerate(self.OPTIMISERS_MAPPING):\n",
        "            op.apply_gradients(zip([grads[idx]], [lenet5.trainable_variables[idx]]))\n",
        "\n",
        "    def train(self, epochs=1, lr=0.0005, mu=0.02):\n",
        "        print(f\"Subset Size: {self.SUBSET_SIZE}, Batch Size: {self.BATCH_SIZE}, Optimiser: {self.OPTIMISER}, Loss: {self.LOSS.__name__}\\n\")\n",
        "\n",
        "        self.EPOCHS = epochs\n",
        "\n",
        "        # calculate the hessians on first 500 samples of data\n",
        "        for i in range(self.EPOCHS):\n",
        "            s = time.time()\n",
        "\n",
        "            instance = next(self.DATASET.batch(500).take(1).as_numpy_iterator())\n",
        "\n",
        "            with tf.GradientTape() as htape:\n",
        "                with tf.GradientTape() as jtape:\n",
        "                    out = tf.reduce_mean(lenet5(instance[0]))\n",
        "                jaccobeans = jtape.gradient(out, lenet5.trainable_variables)\n",
        "\n",
        "            hessians = htape.gradient(jaccobeans, lenet5.trainable_variables)\n",
        "\n",
        "            learning_step_list = np.array(list(map(lambda hessian: lr_step(hessian), hessians)))\n",
        "            learning_step_list = lr / (mu + learning_step_list)\n",
        "\n",
        "            # get weight to optimiser mapping\n",
        "            self.OPTIMISERS_MAPPING = [type(tf.keras.optimizers.get(self.OPTIMISER))(learning_rate=lr) for lr in learning_step_list]\n",
        "\n",
        "            self.training_loss = 0\n",
        "\n",
        "            for x, y in self.DATASET.batch(self.BATCH_SIZE):\n",
        "                print(f\"\\rE{i + 1}: .\", end=\"\")\n",
        "                self.step(x, y, i)\n",
        "\n",
        "            print(f\"\\rE{i + 1}: loss - {(self.training_loss / self.SUBSET_SIZE).numpy()}  [{np.round(time.time() - s, 2)}s]\")\n",
        "\n",
        "\n",
        "trainer = Lenet5Trainer(subset_size=10000)\n",
        "trainer.train(epochs=5)"
      ],
      "metadata": {
        "colab": {
          "base_uri": "https://localhost:8080/"
        },
        "id": "4sC908G-8e7E",
        "outputId": "6da22792-4f88-435d-8097-74ab8926ee0c"
      },
      "execution_count": null,
      "outputs": [
        {
          "output_type": "stream",
          "name": "stdout",
          "text": [
            "Subset Size: 10000, Batch Size: 32, Optimiser: adam, Loss: lenet5_loss\n",
            "\n",
            "E1: loss - 1.4750946760177612  [13.76s]\n",
            "E2: loss - 0.7207867503166199  [13.76s]\n",
            "E3: loss - 0.5985327363014221  [13.88s]\n",
            "E4: loss - 0.5446578860282898  [20.65s]\n",
            "E5: loss - 0.5508077144622803  [13.64s]\n"
          ]
        }
      ]
    },
    {
      "cell_type": "markdown",
      "source": [
        "## **Log**"
      ],
      "metadata": {
        "id": "XX-w84-mIqjP"
      }
    },
    {
      "cell_type": "markdown",
      "source": [
        "**[12/08/23 - 18:27]**\n",
        "* Finished data processing\n",
        "* Began reading the [LeNet](http://vision.stanford.edu/cs598_spring07/papers/Lecun98.pdf) paper for details on task and architecture\n",
        "\n",
        "**[26/08/23 - 22:59]**\n",
        "* Planned how the cutom arcitecture of LeNet5 was going to be made (trainable pooling, partial convolution, RBF layer)\n",
        "* Made a custom class for a trainable pooling layer\n",
        "* Made a custom partial convolutional layer by zeroing out the specifics portions of the filter through the use of a predifined partial connection map. **Need to make a more generalised design of the class**\n",
        "\n",
        "**[29/08/23 - 23:32]**\n",
        "* Made build version of `TrainableAveragePooling2D` and `PartialConv2D`\n",
        "* Found a solution for keeping the kernels of the Partial Convolutional Layer sparse after backpropagation by multiplying the gradients by the connection map matrix before the gradients are applied.\n",
        "* Made the `scaledTanh` activation function.\n",
        "* Began preparing the implementation of the RBF output layer.\n",
        "\n",
        "**[30/08/2023]**\n",
        "* finished the impementation of the RBF output layer\n",
        "* Editted the implementation of the partial convolutional layer\n",
        "\n",
        "**[31/08/2023 - 23:16]**\n",
        "* made an eddited version of the existing dataset that only includes the numerical values\n",
        "* make a sample sequential model using all of the custom components and tested with an image from the dataset. The forward propagation was successful and so was the maintaining of the dimensions.\n",
        "\n",
        "**[01/09/2023]**\n",
        "* made and edit to the `TrainableAveragePooling2D` layer, initially the weights were set as singular scalar vectors, while in the paper they are vectors multiplying the pooling layer output along the depth dimension.\n",
        "* implemented the loss function presented in the paper.\n",
        "* made an accurate, working test model of Lenet5 🥳, using a sequential model.\n",
        "\n",
        "**[04/09/2023]**\n",
        "* Made a custom Lenet5 Model using model subclassing\n",
        "\n",
        "**[05/09/2023]**\n",
        "* Made the initialiser that was used to train the the network.\n",
        "\n",
        "**[22/09/2023]**\n",
        "* Editted the custom training loop\n",
        "* Encoutered error - model was not training effectively\n",
        "* Began to implement a test version of the simplified Stochastic Diagonal Levenberg-Marquardt method\n",
        "\n",
        "**[23/09/2023]**\n",
        "* Re-editted the custom training loop. Turned it into a `Lenet5Trainer` class.\n",
        "* Fixed ineffective training error\n",
        "* Added to the test implementation of the custom optimisation.\n",
        "\n",
        "**[30/09/23 - 22:48]**\n",
        "* Finished making a working lenet 5 trainer using a custom tensorflow training loop.\n",
        "* Integrated a simplified version of the optimisation technique used in the paper.\n",
        "* Trained the network for 5 epochs on a subset of 10000 images from the training set."
      ],
      "metadata": {
        "id": "S1thfQMaIt8I"
      }
    }
  ]
}